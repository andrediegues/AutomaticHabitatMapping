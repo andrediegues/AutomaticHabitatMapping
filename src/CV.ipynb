{
 "cells": [
  {
   "cell_type": "markdown",
   "metadata": {},
   "source": [
    "# Computer Vision Manipulations"
   ]
  },
  {
   "cell_type": "code",
   "execution_count": null,
   "metadata": {},
   "outputs": [],
   "source": [
    "import cv2\n",
    "import numpy as np\n",
    "import itertools as it\n",
    "import os\n",
    "import sys\n",
    "import multiprocessing as mp\n",
    "import pandas as pd"
   ]
  },
  {
   "cell_type": "markdown",
   "metadata": {},
   "source": [
    "## Functions"
   ]
  },
  {
   "cell_type": "code",
   "execution_count": 2,
   "metadata": {},
   "outputs": [],
   "source": [
    "def createHash(img, bot, top):\n",
    "    hashmap = {}\n",
    "    for i,j in it.product(range(img.shape[0]), range(img.shape[1])):\n",
    "        if img[i,j] not in hashmap:\n",
    "            if img[i,j] <= bot:\n",
    "                hashmap[img[i,j]] = 0\n",
    "            elif img[i,j] > top:\n",
    "                hashmap[img[i,j]] = 255\n",
    "            else:\n",
    "                hashmap[img[i,j]] = 255 * ((img[i,j] - bot) / (top - bot))\n",
    "                \n",
    "    return hashmap\n",
    "\n",
    "def grayscale(img):\n",
    "    \n",
    "    return cv2.cvtColor(img, cv2.COLOR_BGR2GRAY)"
   ]
  },
  {
   "cell_type": "code",
   "execution_count": 3,
   "metadata": {},
   "outputs": [],
   "source": [
    "def linearStretch(img):\n",
    "    bot = min(img.ravel())\n",
    "    top = max(img.ravel())\n",
    "        \n",
    "    hashmap = createHash(img, bot, top)\n",
    "    img2 = img\n",
    "    for i, j in it.product(range(img2.shape[0]), range(img2.shape[1])):\n",
    "        img2[i,j] = hashmap[img2[i,j]]\n",
    "        \n",
    "    return img2\n",
    "\n",
    "def createROI(img, h1, h2, w1, w2):\n",
    "    \n",
    "    return img[h1:h2, w1:w2]\n",
    "\n",
    "def powerStretch(img):\n",
    "    img2 = img\n",
    "    #img2 = cv2.cvtColor(img2,cv2.COLOR_BGR2RGB)  \n",
    "    img2 = img2/255.0      \n",
    "    im_power_law_transformation = cv2.pow(img2,2.5)\n",
    "    im_power_law_transformation *= 255 \n",
    "    im_power_law_transformation = im_power_law_transformation.astype('uint8')\n",
    "    #im_power_law_transformation = cv2.cvtColor(im_power_law_transformation,cv2.COLOR_BGR2RGB)\n",
    "        \n",
    "    return im_power_law_transformation\n",
    "\n",
    "def integratedColorModel(img):\n",
    "    hsvimg = cv2.cvtColor(img, cv2.COLOR_RGB2HSV)    \n",
    "    hue = hsvimg[:,:,0]\n",
    "    saturation = hsvimg[:,:,1]\n",
    "    value = hsvimg[:,:,2]\n",
    "    valuecs = linearStretch(value)\n",
    "    saturationcs = linearStretch(saturation)\n",
    "    hlscs = cv2.merge((hue,saturationcs,valuecs))\n",
    "    imc = cv2.cvtColor(hlscs, cv2.COLOR_HSV2RGB)\n",
    "   \n",
    "    return imc"
   ]
  },
  {
   "cell_type": "code",
   "execution_count": 11,
   "metadata": {},
   "outputs": [],
   "source": [
    "def getImagesPath(parent_path, child_path, filenames):\n",
    "    paths = []\n",
    "    for f in filenames:\n",
    "        folder = f[:f.find('frame')-1]\n",
    "        framename = 'wb_' + f[f.find('frame'):]\n",
    "        if os.path.exists(parent_path + folder + child_path + framename):\n",
    "            paths.append((folder,framename))\n",
    "        \n",
    "    return paths       "
   ]
  },
  {
   "cell_type": "code",
   "execution_count": 12,
   "metadata": {},
   "outputs": [
    {
     "data": {
      "text/plain": [
       "[('113610_cam_survey_1', 'wb_frame2013.jpg'),\n",
       " ('113610_cam_survey_1', 'wb_frame2676.jpg'),\n",
       " ('113610_cam_survey_1', 'wb_frame962.jpg'),\n",
       " ('132143_forcadinho-np3', 'wb_frame1283.jpg'),\n",
       " ('113610_cam_survey_1', 'wb_frame699.jpg')]"
      ]
     },
     "execution_count": 12,
     "metadata": {},
     "output_type": "execute_result"
    }
   ],
   "source": [
    "parent_path = '/home/diegues/2018-05-01-OMARE/logs/lauv-noptilus-3/20180501/'\n",
    "child_path = '/mra/FilteredPhotos/WhiteBalance/'\n",
    "\n",
    "df_path = \"/home/diegues/Desktop/ProcessedImages/sampled_data.csv\"\n",
    "data = pd.read_csv(df_path)\n",
    "\n",
    "filenames = data['filename']\n",
    "image_paths = getImagesPath(parent_path, child_path, filenames)\n",
    "image_paths[:5]"
   ]
  },
  {
   "cell_type": "code",
   "execution_count": 13,
   "metadata": {},
   "outputs": [],
   "source": [
    "cv_path = '/'.join(df_path.split('/')[:-1]) + '/CV/'\n",
    "icm_path = '/icm/'\n",
    "lcs_path = '/lcs/'\n",
    "pcs_path = '/pcs/'\n",
    "if not os.path.exists(cv_path):\n",
    "    os.mkdir(cv_path)\n",
    "for folder in [f[0] for f in image_paths]:\n",
    "    if not os.path.exists(cv_path + folder):\n",
    "        os.mkdir(cv_path + folder)\n",
    "        os.mkdir(cv_path + folder + icm_path)\n",
    "        os.mkdir(cv_path + folder + lcs_path)\n",
    "        os.mkdir(cv_path + folder + pcs_path)\n"
   ]
  },
  {
   "cell_type": "code",
   "execution_count": 14,
   "metadata": {},
   "outputs": [],
   "source": [
    "def createImages(t):\n",
    "    img = cv2.imread(parent_path + t[0] + child_path + t[1])\n",
    "    icm = integratedColorModel(img)\n",
    "    lcs = linearStretch(grayscale(img))\n",
    "    pcs = powerStretch(grayscale(img))\n",
    "    cv2.imwrite(cv_path + t[0] + icm_path + t[0] + t[1][t[1].find('_'):], icm)\n",
    "    cv2.imwrite(cv_path + t[0] + lcs_path + t[0] + t[1][t[1].find('_'):], lcs)\n",
    "    cv2.imwrite(cv_path + t[0] + pcs_path + t[0] + t[1][t[1].find('_'):], pcs)"
   ]
  },
  {
   "cell_type": "code",
   "execution_count": null,
   "metadata": {},
   "outputs": [],
   "source": [
    "pool = mp.Pool(processes=mp.cpu_count())\n",
    "pool.map(createImages, image_paths)"
   ]
  },
  {
   "cell_type": "code",
   "execution_count": 60,
   "metadata": {},
   "outputs": [
    {
     "data": {
      "text/plain": [
       "'/home/diegues/Desktop/ProcessedImages/CV/113610_cam_survey_1/icm/113610_cam_survey_1_frame2013.jpg'"
      ]
     },
     "execution_count": 60,
     "metadata": {},
     "output_type": "execute_result"
    }
   ],
   "source": [
    "t = image_paths[0]\n",
    "cv_path + t[0] + icm_path + t[0] + t[1][t[1].find('_'):]"
   ]
  },
  {
   "cell_type": "code",
   "execution_count": null,
   "metadata": {},
   "outputs": [],
   "source": []
  }
 ],
 "metadata": {
  "kernelspec": {
   "display_name": "Python 3",
   "language": "python",
   "name": "python3"
  },
  "language_info": {
   "codemirror_mode": {
    "name": "ipython",
    "version": 3
   },
   "file_extension": ".py",
   "mimetype": "text/x-python",
   "name": "python",
   "nbconvert_exporter": "python",
   "pygments_lexer": "ipython3",
   "version": "3.6.4"
  }
 },
 "nbformat": 4,
 "nbformat_minor": 2
}
