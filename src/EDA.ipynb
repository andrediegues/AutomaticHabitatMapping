{
 "cells": [
  {
   "cell_type": "code",
   "execution_count": 4,
   "metadata": {},
   "outputs": [],
   "source": [
    "import pandas as pd\n",
    "import matplotlib.pyplot as plt\n",
    "import numpy as np\n",
    "import os\n",
    "\n",
    "path = '/home/diegues/Desktop/ProcessedImages/'\n",
    "labeled_data = pd.read_csv(path + 'labeled_data.csv')"
   ]
  },
  {
   "cell_type": "code",
   "execution_count": 5,
   "metadata": {},
   "outputs": [
    {
     "name": "stdout",
     "output_type": "stream",
     "text": [
      "['104728_cam-np3', '105317_cam-np3', '113610_cam_survey_1', '125355_forcadinho-np3', '132143_forcadinho-np3']\n"
     ]
    }
   ],
   "source": [
    "folders = []\n",
    "for folder in [f for f in os.listdir(path) if os.path.isdir(path + f)]:\n",
    "    if folder[0] in '0123456789':\n",
    "        folders.append(folder)\n",
    "folders.sort()\n",
    "print(folders)        "
   ]
  },
  {
   "cell_type": "code",
   "execution_count": 6,
   "metadata": {},
   "outputs": [],
   "source": [
    "df0 = pd.DataFrame()\n",
    "df1 = pd.DataFrame()\n",
    "df2 = pd.DataFrame()\n",
    "df3 = pd.DataFrame()\n",
    "df4 = pd.DataFrame()\n",
    "\n",
    "i = 0\n",
    "\n",
    "for f in folders:\n",
    "    datafile = path + f + \"/\" + f + \".csv\"\n",
    "    if not os.path.exists(datafile):\n",
    "        print(datafile + \"doesn't exist!\")\n",
    "        break\n",
    "    data = pd.read_csv(datafile, \n",
    "                       names=['filename', 'timestamp', 'latitude', 'longitude', 'altitude', 'roll', 'pitch', 'depth', 'entropy', 'date'])[1:]\n",
    "    data = data.drop(['altitude', 'depth'], axis = 1)\n",
    "    targetsfile = path + f + \"/\" + f + \"-targets.csv\"\n",
    "    if not os.path.exists(targetsfile):\n",
    "        print(targetsfile + \"doesn't exist!\")\n",
    "        continue\n",
    "    targets = pd.read_csv(targetsfile,\n",
    "                          names=['filename', 'date', 'longitude', 'latitude', 'depth', 'EunisCode', 'EunisName', 'level1', 'level2', 'level3', 'level4', 'level5', 'level6', \n",
    "                                 'species', 'AphiaID'])[1:]\n",
    "    targets = targets.drop(['date', 'longitude', 'latitude'], axis=1)\n",
    "    join_dfs = pd.merge(data, targets, on='filename', how='outer')\n",
    "    non_empty_targets = join_dfs[join_dfs['EunisCode'].notnull()]\n",
    "    if i == 0:\n",
    "        df0 = non_empty_targets\n",
    "        filenames = df0['filename']\n",
    "        targets = df0['level3']\n",
    "        species = pd.get_dummies(df0['species'])\n",
    "        df0 = df0.drop(['roll', 'pitch', 'level1', 'level2', 'level3', 'level4',\n",
    "          'level5', 'level6', 'AphiaID', 'EunisName', 'EunisCode', \n",
    "          'date', 'timestamp', 'species'], axis = 1)\n",
    "        df0 = pd.concat([df0, species, targets], axis = 1).groupby('filename').max()\n",
    "        i += 1\n",
    "    elif i == 1:\n",
    "        df1 = non_empty_targets\n",
    "        filenames = df1['filename']\n",
    "        targets = df1['level3']\n",
    "        species = pd.get_dummies(df1['species'])\n",
    "        df1 = df1.drop(['roll', 'pitch', 'level1', 'level2', 'level3', 'level4',\n",
    "          'level5', 'level6', 'AphiaID', 'EunisName', 'EunisCode', \n",
    "          'date', 'timestamp', 'species'], axis = 1)\n",
    "        df1 = pd.concat([df1, species, targets], axis = 1).groupby('filename').max()\n",
    "        i += 1\n",
    "    elif i == 2:\n",
    "        df2 = non_empty_targets\n",
    "        filenames = df2['filename']\n",
    "        targets = df2['level3']\n",
    "        species = pd.get_dummies(df2['species'])\n",
    "        df2 = df2.drop(['roll', 'pitch', 'level1', 'level2', 'level3', 'level4',\n",
    "          'level5', 'level6', 'AphiaID', 'EunisName', 'EunisCode', \n",
    "          'date', 'timestamp', 'species'], axis = 1)\n",
    "        df2 = pd.concat([df2, species, targets], axis = 1).groupby('filename').max()\n",
    "        i += 1\n",
    "    elif i == 3:\n",
    "        df3 = non_empty_targets\n",
    "        filenames = df3['filename']\n",
    "        targets = df3['level3']\n",
    "        species = pd.get_dummies(df3['species'])\n",
    "        df3 = df3.drop(['roll', 'pitch', 'level1', 'level2', 'level3', 'level4',\n",
    "          'level5', 'level6', 'AphiaID', 'EunisName', 'EunisCode', \n",
    "          'date', 'timestamp', 'species'], axis = 1)\n",
    "        df3 = pd.concat([df3, species, targets], axis = 1).groupby('filename').max()\n",
    "        i += 1\n",
    "    elif i == 4:\n",
    "        df4 = non_empty_targets\n",
    "        filenames = df4['filename']\n",
    "        targets = df4['level3']\n",
    "        species = pd.get_dummies(df4['species'])\n",
    "        df4 = df4.drop(['roll', 'pitch', 'level1', 'level2', 'level3', 'level4',\n",
    "          'level5', 'level6', 'AphiaID', 'EunisName', 'EunisCode', \n",
    "          'date', 'timestamp', 'species'], axis = 1)\n",
    "        df4 = pd.concat([df4, species, targets], axis = 1).groupby('filename').max()\n",
    "        i += 1"
   ]
  },
  {
   "cell_type": "code",
   "execution_count": 78,
   "metadata": {},
   "outputs": [
    {
     "data": {
      "text/plain": [
       "A4.1    22\n",
       "Name: level3, dtype: int64"
      ]
     },
     "execution_count": 78,
     "metadata": {},
     "output_type": "execute_result"
    }
   ],
   "source": [
    "df0.level3.value_counts()"
   ]
  },
  {
   "cell_type": "code",
   "execution_count": 74,
   "metadata": {},
   "outputs": [
    {
     "name": "stdout",
     "output_type": "stream",
     "text": [
      "309.85714285714283 178.0\n"
     ]
    },
    {
     "data": {
      "image/png": "[encoded data removed]",
      "text/plain": [
       "<Figure size 432x288 with 4 Axes>"
      ]
     },
     "metadata": {},
     "output_type": "display_data"
    },
    {
     "data": {
      "image/png": "[encoded data removed]",
      "text/plain": [
       "<Figure size 432x288 with 1 Axes>"
      ]
     },
     "metadata": {},
     "output_type": "display_data"
    }
   ],
   "source": [
    "plt.figure(1)\n",
    "\n",
    "plt.subplot(221)\n",
    "plt.plot(df1.level3.value_counts())\n",
    "plt.plot([np.mean(df1.level3.value_counts())]*len(df1.level3.value_counts()), color='red', linestyle = '--')\n",
    "plt.plot([np.median(df1.level3.value_counts())]*len(df1.level3.value_counts()), color='green')\n",
    "\n",
    "plt.subplot(222)\n",
    "plt.plot(df2.level3.value_counts())\n",
    "plt.plot([np.mean(df2.level3.value_counts())]*len(df2.level3.value_counts()), color='red', linestyle = '--')\n",
    "plt.plot([np.median(df2.level3.value_counts())]*len(df2.level3.value_counts()), color='green')\n",
    "\n",
    "plt.subplot(223)\n",
    "plt.plot(df3.level3.value_counts())\n",
    "plt.plot([np.mean(df3.level3.value_counts())]*len(df3.level3.value_counts()), color='red', linestyle = '--')\n",
    "plt.plot([np.median(df3.level3.value_counts())]*len(df3.level3.value_counts()), color='green')\n",
    "\n",
    "plt.subplot(224)\n",
    "plt.plot(df4.level3.value_counts())\n",
    "plt.plot([np.mean(df4.level3.value_counts())]*len(df4.level3.value_counts()), color='red', linestyle = '--')\n",
    "plt.plot([np.median(df4.level3.value_counts())]*len(df4.level3.value_counts()), color='green')\n",
    "\n",
    "plt.savefig('classes_per_log.jpg')\n",
    "\n",
    "fig,ax = plt.subplots()\n",
    "x = labeled_data.level3.value_counts()\n",
    "y_mean = [np.mean(x)]*len(x)\n",
    "y_median = [np.median(x)]*len(x)\n",
    "print(np.mean(x), np.median(x))\n",
    "ax.plot(x)\n",
    "ax.plot(y_mean, color='red', linestyle = '--')\n",
    "ax.plot(y_median, color='green')\n",
    "\n",
    "plt.savefig('aggregated_data.jpg')"
   ]
  },
  {
   "cell_type": "code",
   "execution_count": 45,
   "metadata": {},
   "outputs": [],
   "source": [
    "df_a41 = labeled_data[labeled_data['level3'] == 'A4.1']\n",
    "df_a31 = labeled_data[labeled_data['level3'] == 'A3.1']\n",
    "df_a51 = labeled_data[labeled_data['level3'] == 'A5.1']\n",
    "df_a47 = labeled_data[labeled_data['level3'] == 'A4.7']\n",
    "df_a37 = labeled_data[labeled_data['level3'] == 'A3.7']\n",
    "df_a52 = labeled_data[labeled_data['level3'] == 'A5.2']\n",
    "df_a54 = labeled_data[labeled_data['level3'] == 'A5.4']\n"
   ]
  },
  {
   "cell_type": "code",
   "execution_count": 49,
   "metadata": {},
   "outputs": [
    {
     "name": "stdout",
     "output_type": "stream",
     "text": [
      "A4.1: 1207 \n",
      "A3.1: 388 \n",
      "A5.1: 181 \n",
      "A4.7: 178 \n",
      "A3.7: 96 \n",
      "A5.2: 85 \n",
      "A5.4: 34 \n",
      "Median: 178\n"
     ]
    }
   ],
   "source": [
    "median = int(np.median(labeled_data.level3.value_counts()))\n",
    "print('A4.1:',len(df_a41),'\\nA3.1:',len(df_a31),'\\nA5.1:',len(df_a51),'\\nA4.7:',len(df_a47),'\\nA3.7:',len(df_a37),\n",
    "      '\\nA5.2:',len(df_a52),'\\nA5.4:', len(df_a54), '\\nMedian:',median)\n"
   ]
  },
  {
   "cell_type": "code",
   "execution_count": 56,
   "metadata": {},
   "outputs": [],
   "source": [
    "sampled_a41 = df_a41.sample(median)\n",
    "sampled_a31 = df_a31.sample(median)\n",
    "sampled_a51 = df_a51.sample(median)\n",
    "sampled_a47 = df_a47.sample(median)\n",
    "sampled_a37 = df_a37\n",
    "sampled_a52 = df_a52\n",
    "sampled_a54 = df_a54"
   ]
  },
  {
   "cell_type": "code",
   "execution_count": 57,
   "metadata": {},
   "outputs": [],
   "source": [
    "sampled_df = pd.concat([sampled_a31,sampled_a37,sampled_a41,sampled_a47,sampled_a51,sampled_a52, sampled_a54])"
   ]
  },
  {
   "cell_type": "code",
   "execution_count": 58,
   "metadata": {},
   "outputs": [
    {
     "data": {
      "text/html": [
       "<div>\n",
       "<style scoped>\n",
       "    .dataframe tbody tr th:only-of-type {\n",
       "        vertical-align: middle;\n",
       "    }\n",
       "\n",
       "    .dataframe tbody tr th {\n",
       "        vertical-align: top;\n",
       "    }\n",
       "\n",
       "    .dataframe thead th {\n",
       "        text-align: right;\n",
       "    }\n",
       "</style>\n",
       "<table border=\"1\" class=\"dataframe\">\n",
       "  <thead>\n",
       "    <tr style=\"text-align: right;\">\n",
       "      <th></th>\n",
       "      <th>filename</th>\n",
       "      <th>timestamp</th>\n",
       "      <th>latitude</th>\n",
       "      <th>longitude</th>\n",
       "      <th>roll</th>\n",
       "      <th>pitch</th>\n",
       "      <th>entropy</th>\n",
       "      <th>date</th>\n",
       "      <th>depth</th>\n",
       "      <th>EunisCode</th>\n",
       "      <th>EunisName</th>\n",
       "      <th>level1</th>\n",
       "      <th>level2</th>\n",
       "      <th>level3</th>\n",
       "      <th>level4</th>\n",
       "      <th>level5</th>\n",
       "      <th>level6</th>\n",
       "      <th>species</th>\n",
       "      <th>AphiaID</th>\n",
       "    </tr>\n",
       "  </thead>\n",
       "  <tbody>\n",
       "    <tr>\n",
       "      <th>2082</th>\n",
       "      <td>113610_cam_survey_1_frame2013.jpg</td>\n",
       "      <td>1.525176e+09</td>\n",
       "      <td>41.53330</td>\n",
       "      <td>-8.80762</td>\n",
       "      <td>-1.62</td>\n",
       "      <td>-19.97</td>\n",
       "      <td>21.909578</td>\n",
       "      <td>01/05/18</td>\n",
       "      <td>9.45</td>\n",
       "      <td>A3.11</td>\n",
       "      <td>Kelp with cushion fauna and/or foliose red sea...</td>\n",
       "      <td>A</td>\n",
       "      <td>A3</td>\n",
       "      <td>A3.1</td>\n",
       "      <td>A3.11</td>\n",
       "      <td>NaN</td>\n",
       "      <td>NaN</td>\n",
       "      <td>NaN</td>\n",
       "      <td>NaN</td>\n",
       "    </tr>\n",
       "    <tr>\n",
       "      <th>2115</th>\n",
       "      <td>113610_cam_survey_1_frame2676.jpg</td>\n",
       "      <td>1.525176e+09</td>\n",
       "      <td>41.53336</td>\n",
       "      <td>-8.80589</td>\n",
       "      <td>-3.10</td>\n",
       "      <td>-18.89</td>\n",
       "      <td>21.810189</td>\n",
       "      <td>01/05/18</td>\n",
       "      <td>8.09</td>\n",
       "      <td>A3.11</td>\n",
       "      <td>Kelp with cushion fauna and/or foliose red sea...</td>\n",
       "      <td>A</td>\n",
       "      <td>A3</td>\n",
       "      <td>A3.1</td>\n",
       "      <td>A3.11</td>\n",
       "      <td>NaN</td>\n",
       "      <td>NaN</td>\n",
       "      <td>NaN</td>\n",
       "      <td>NaN</td>\n",
       "    </tr>\n",
       "    <tr>\n",
       "      <th>1934</th>\n",
       "      <td>113610_cam_survey_1_frame962.jpg</td>\n",
       "      <td>1.525175e+09</td>\n",
       "      <td>41.53322</td>\n",
       "      <td>-8.81097</td>\n",
       "      <td>-1.48</td>\n",
       "      <td>-17.99</td>\n",
       "      <td>21.907689</td>\n",
       "      <td>01/05/18</td>\n",
       "      <td>10.21</td>\n",
       "      <td>A3.1</td>\n",
       "      <td>Atlantic and Mediterranean high energy infrali...</td>\n",
       "      <td>A</td>\n",
       "      <td>A3</td>\n",
       "      <td>A3.1</td>\n",
       "      <td>NaN</td>\n",
       "      <td>NaN</td>\n",
       "      <td>NaN</td>\n",
       "      <td>NaN</td>\n",
       "      <td>NaN</td>\n",
       "    </tr>\n",
       "    <tr>\n",
       "      <th>245</th>\n",
       "      <td>132143_forcadinho-np3_frame1283.jpg</td>\n",
       "      <td>1.525183e+09</td>\n",
       "      <td>41.53297</td>\n",
       "      <td>-8.80974</td>\n",
       "      <td>0.06</td>\n",
       "      <td>-25.89</td>\n",
       "      <td>21.897980</td>\n",
       "      <td>01/05/18</td>\n",
       "      <td>9.54</td>\n",
       "      <td>A3.1</td>\n",
       "      <td>Atlantic and Mediterranean high energy infrali...</td>\n",
       "      <td>A</td>\n",
       "      <td>A3</td>\n",
       "      <td>A3.1</td>\n",
       "      <td>NaN</td>\n",
       "      <td>NaN</td>\n",
       "      <td>NaN</td>\n",
       "      <td>NaN</td>\n",
       "      <td>NaN</td>\n",
       "    </tr>\n",
       "    <tr>\n",
       "      <th>1858</th>\n",
       "      <td>113610_cam_survey_1_frame699.jpg</td>\n",
       "      <td>1.525175e+09</td>\n",
       "      <td>41.53322</td>\n",
       "      <td>-8.81165</td>\n",
       "      <td>-16.29</td>\n",
       "      <td>-19.78</td>\n",
       "      <td>21.914735</td>\n",
       "      <td>01/05/18</td>\n",
       "      <td>12.14</td>\n",
       "      <td>A3.1</td>\n",
       "      <td>Atlantic and Mediterranean high energy infrali...</td>\n",
       "      <td>A</td>\n",
       "      <td>A3</td>\n",
       "      <td>A3.1</td>\n",
       "      <td>NaN</td>\n",
       "      <td>NaN</td>\n",
       "      <td>NaN</td>\n",
       "      <td>NaN</td>\n",
       "      <td>NaN</td>\n",
       "    </tr>\n",
       "  </tbody>\n",
       "</table>\n",
       "</div>"
      ],
      "text/plain": [
       "                                 filename     timestamp  latitude  longitude  \\\n",
       "2082    113610_cam_survey_1_frame2013.jpg  1.525176e+09  41.53330   -8.80762   \n",
       "2115    113610_cam_survey_1_frame2676.jpg  1.525176e+09  41.53336   -8.80589   \n",
       "1934     113610_cam_survey_1_frame962.jpg  1.525175e+09  41.53322   -8.81097   \n",
       "245   132143_forcadinho-np3_frame1283.jpg  1.525183e+09  41.53297   -8.80974   \n",
       "1858     113610_cam_survey_1_frame699.jpg  1.525175e+09  41.53322   -8.81165   \n",
       "\n",
       "       roll  pitch    entropy      date  depth EunisCode  \\\n",
       "2082  -1.62 -19.97  21.909578  01/05/18   9.45     A3.11   \n",
       "2115  -3.10 -18.89  21.810189  01/05/18   8.09     A3.11   \n",
       "1934  -1.48 -17.99  21.907689  01/05/18  10.21      A3.1   \n",
       "245    0.06 -25.89  21.897980  01/05/18   9.54      A3.1   \n",
       "1858 -16.29 -19.78  21.914735  01/05/18  12.14      A3.1   \n",
       "\n",
       "                                              EunisName level1 level2 level3  \\\n",
       "2082  Kelp with cushion fauna and/or foliose red sea...      A     A3   A3.1   \n",
       "2115  Kelp with cushion fauna and/or foliose red sea...      A     A3   A3.1   \n",
       "1934  Atlantic and Mediterranean high energy infrali...      A     A3   A3.1   \n",
       "245   Atlantic and Mediterranean high energy infrali...      A     A3   A3.1   \n",
       "1858  Atlantic and Mediterranean high energy infrali...      A     A3   A3.1   \n",
       "\n",
       "     level4 level5  level6 species  AphiaID  \n",
       "2082  A3.11    NaN     NaN     NaN      NaN  \n",
       "2115  A3.11    NaN     NaN     NaN      NaN  \n",
       "1934    NaN    NaN     NaN     NaN      NaN  \n",
       "245     NaN    NaN     NaN     NaN      NaN  \n",
       "1858    NaN    NaN     NaN     NaN      NaN  "
      ]
     },
     "execution_count": 58,
     "metadata": {},
     "output_type": "execute_result"
    }
   ],
   "source": [
    "sampled_df[:5]"
   ]
  },
  {
   "cell_type": "code",
   "execution_count": 75,
   "metadata": {},
   "outputs": [
    {
     "name": "stdout",
     "output_type": "stream",
     "text": [
      "132.42857142857142\n"
     ]
    },
    {
     "data": {
      "image/png": "[encoded data removed]",
      "text/plain": [
       "<Figure size 432x288 with 1 Axes>"
      ]
     },
     "metadata": {},
     "output_type": "display_data"
    }
   ],
   "source": [
    "plt.plot(sampled_df.level3.value_counts())\n",
    "plt.plot([np.mean(sampled_df.level3.value_counts())]*len(sampled_df.level3.value_counts()), color='red', linestyle = '--')\n",
    "plt.savefig('sampled_data.jpg')\n",
    "print(np.mean(sampled_df.level3.value_counts()))"
   ]
  },
  {
   "cell_type": "code",
   "execution_count": 80,
   "metadata": {},
   "outputs": [],
   "source": [
    "sampled_df.to_csv('sampled_data.csv', index=False)"
   ]
  }
 ],
 "metadata": {
  "kernelspec": {
   "display_name": "Python 3",
   "language": "python",
   "name": "python3"
  },
  "language_info": {
   "codemirror_mode": {
    "name": "ipython",
    "version": 3
   },
   "file_extension": ".py",
   "mimetype": "text/x-python",
   "name": "python",
   "nbconvert_exporter": "python",
   "pygments_lexer": "ipython3",
   "version": "3.6.4"
  }
 },
 "nbformat": 4,
 "nbformat_minor": 2
}
