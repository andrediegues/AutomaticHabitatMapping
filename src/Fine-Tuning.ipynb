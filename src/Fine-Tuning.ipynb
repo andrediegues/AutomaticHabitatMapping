{
 "cells": [
  {
   "cell_type": "code",
   "execution_count": 1,
   "metadata": {},
   "outputs": [
    {
     "name": "stderr",
     "output_type": "stream",
     "text": [
      "/home/diegues/anaconda3/lib/python3.6/site-packages/h5py/__init__.py:36: FutureWarning: Conversion of the second argument of issubdtype from `float` to `np.floating` is deprecated. In future, it will be treated as `np.float64 == np.dtype(float).type`.\n",
      "  from ._conv import register_converters as _register_converters\n",
      "Using TensorFlow backend.\n"
     ]
    }
   ],
   "source": [
    "import pandas as pd\n",
    "import numpy as np\n",
    "import cv2\n",
    "import os\n",
    "import matplotlib.pyplot as plt\n",
    "from shutil import copyfile\n",
    "from sklearn.model_selection import train_test_split\n",
    "from keras.models import Sequential\n",
    "from keras.layers import Dense, Dropout, Conv2D, MaxPooling2D, Flatten\n",
    "from keras.preprocessing.image import ImageDataGenerator\n",
    "from keras.optimizers import SGD\n",
    "from keras.callbacks import TensorBoard\n",
    "from keras.callbacks import EarlyStopping\n",
    "from keras.callbacks import ReduceLROnPlateau\n",
    "from keras.utils import to_categorical"
   ]
  },
  {
   "cell_type": "code",
   "execution_count": 6,
   "metadata": {},
   "outputs": [],
   "source": [
    "def createDirectoryEnvironment(train_data, train_targets, val_data, val_targets, path):\n",
    "    trainpath = path + 'train/'\n",
    "    valpath = path + 'validation/'\n",
    "    if(os.listdir() == 2):\n",
    "        return trainpath,valpath\n",
    "    if(not os.path.exists(trainpath)):\n",
    "        os.mkdir(trainpath)\n",
    "    if(not os.path.exists(valpath)):\n",
    "        os.mkdir(valpath)\n",
    "        \n",
    "    classes = train_targets.columns.append(val_targets.columns).drop_duplicates()  \n",
    "    for c in classes:\n",
    "        train_class = trainpath + c + '/'\n",
    "        val_class = valpath + c + '/'\n",
    "        if(not os.path.exists(train_class)):\n",
    "            os.mkdir(train_class)\n",
    "        if(not os.path.exists(val_class)):\n",
    "            os.mkdir(val_class)\n",
    "            \n",
    "    for f in train_data.index.values:\n",
    "        copyfile(path + '../CV/' + f[:f.find('frame')-1] + '/icm/' + f, trainpath + train_targets.loc[f].idxmax(axis = 1) + '/' + f)\n",
    "    for f in val_data.index.values:\n",
    "        copyfile(path + '../CV/' + f[:f.find('frame')-1] + '/icm/' + f, valpath + val_targets.loc[f].idxmax(axis = 1) + '/' + f)\n",
    "    \n",
    "    return trainpath, valpath"
   ]
  },
  {
   "cell_type": "code",
   "execution_count": 5,
   "metadata": {},
   "outputs": [],
   "source": [
    "folder_path = \"/home/diegues/Desktop/ProcessedImages/\"\n",
    "data = pd.read_csv(folder_path + \"sampled_data.csv\")\n",
    "\n",
    "filenames = data['filename']\n",
    "targets = data['level3']\n",
    "\n",
    "# one-hot encoding\n",
    "targets_ohe = pd.get_dummies(targets)\n",
    "\n",
    "# dealing with NaNs\n",
    "data = data.drop(['roll', 'pitch', 'level1', 'level2', 'level3', 'level4', \n",
    "                  'level5', 'level6', 'AphiaID', 'EunisName', 'EunisCode', \n",
    "                  'date', 'timestamp', 'species'],\n",
    "                 axis = 1)\n",
    "\n",
    "X = data.groupby('filename').max()\n",
    "Y = pd.concat([filenames,targets_ohe], axis = 1).groupby('filename').max()\n",
    "\n",
    "\n",
    "# tts\n",
    "train_X, test_X, train_Y, test_Y = train_test_split(X, Y, test_size = 0.3, random_state=47)\n",
    "\n",
    "images_path = '/home/diegues/Desktop/ProcessedImages/SampledData/'\n",
    "train_dir, val_dir = createDirectoryEnvironment(train_X, train_Y, test_X, test_Y, images_path)"
   ]
  },
  {
   "cell_type": "code",
   "execution_count": null,
   "metadata": {},
   "outputs": [],
   "source": []
  }
 ],
 "metadata": {
  "kernelspec": {
   "display_name": "Python 3",
   "language": "python",
   "name": "python3"
  },
  "language_info": {
   "codemirror_mode": {
    "name": "ipython",
    "version": 3
   },
   "file_extension": ".py",
   "mimetype": "text/x-python",
   "name": "python",
   "nbconvert_exporter": "python",
   "pygments_lexer": "ipython3",
   "version": "3.6.4"
  }
 },
 "nbformat": 4,
 "nbformat_minor": 2
}
