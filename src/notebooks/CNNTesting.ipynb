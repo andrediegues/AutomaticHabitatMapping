{
 "cells": [
  {
   "cell_type": "code",
   "execution_count": 1,
   "metadata": {},
   "outputs": [
    {
     "name": "stderr",
     "output_type": "stream",
     "text": [
      "/home/diegues/anaconda3/lib/python3.6/site-packages/h5py/__init__.py:36: FutureWarning: Conversion of the second argument of issubdtype from `float` to `np.floating` is deprecated. In future, it will be treated as `np.float64 == np.dtype(float).type`.\n",
      "  from ._conv import register_converters as _register_converters\n",
      "Using TensorFlow backend.\n"
     ]
    }
   ],
   "source": [
    "import pandas as pd\n",
    "import numpy as np\n",
    "import os\n",
    "import matplotlib.pyplot as plt\n",
    "from shutil import copyfile\n",
    "from sklearn.model_selection import train_test_split\n",
    "from IPython.display import SVG,display\n",
    "from keras.models import Sequential, Model\n",
    "from keras.layers import Dense, Dropout, Conv2D, MaxPooling2D, Flatten\n",
    "from keras.preprocessing.image import ImageDataGenerator\n",
    "from keras.optimizers import SGD, Adam\n",
    "from keras.callbacks import TensorBoard, ModelCheckpoint, EarlyStopping, ReduceLROnPlateau\n",
    "from keras.utils import to_categorical\n",
    "from keras.applications import VGG16, DenseNet201, ResNet50, InceptionV3, InceptionResNetV2\n",
    "from keras.applications.vgg16 import decode_predictions\n",
    "from keras.preprocessing.image import load_img\n",
    "from sklearn.metrics import accuracy_score, precision_score, recall_score, f1_score, classification_report"
   ]
  },
  {
   "cell_type": "code",
   "execution_count": 2,
   "metadata": {},
   "outputs": [],
   "source": [
    "def loadModel(modelname, optimizer):\n",
    "    if('dense' in modelname):\n",
    "        print('densenet')\n",
    "        model = DenseNet201()\n",
    "    elif('res' in modelname):\n",
    "        print('resnet')\n",
    "        model = ResNet50()\n",
    "    elif('inceptionv3' in modelname):\n",
    "        print('inceptionv3')\n",
    "        model = InceptionV3()\n",
    "    else:\n",
    "        print('inceptionresnet')\n",
    "        model = InceptionResNetV2()\n",
    "        \n",
    "    x = Dense(5, activation='softmax', name='predictions')(model.layers[-2].output)\n",
    "\n",
    "    M = Model(input=model.input, output=x)\n",
    "    M.load_weights(modelname)\n",
    "    M.compile(loss='categorical_crossentropy',\n",
    "                optimizer=optimizer, \n",
    "                metrics=['acc'])\n",
    "    return M\n",
    "    "
   ]
  },
  {
   "cell_type": "code",
   "execution_count": 3,
   "metadata": {},
   "outputs": [],
   "source": [
    "folder = '/media/newdrive/20180501/ProcessedImages/' # change this path to the one you want\n",
    "test_path = folder + 'test/' # change this path to the one you want\n",
    "test_df = pd.read_csv(folder + 'unknown2-targets.csv').set_index('filename') # change this path to the one you want\n",
    "test_datagen = ImageDataGenerator(rescale=1./255)"
   ]
  },
  {
   "cell_type": "code",
   "execution_count": 4,
   "metadata": {},
   "outputs": [
    {
     "name": "stdout",
     "output_type": "stream",
     "text": [
      "resnet\n"
     ]
    },
    {
     "name": "stderr",
     "output_type": "stream",
     "text": [
      "/home/diegues/anaconda3/lib/python3.6/site-packages/ipykernel_launcher.py:17: UserWarning: Update your `Model` call to the Keras 2 API: `Model(inputs=Tensor(\"in..., outputs=Tensor(\"pr...)`\n"
     ]
    },
    {
     "name": "stdout",
     "output_type": "stream",
     "text": [
      "Found 751 images belonging to 1 classes.\n",
      "751/751 [==============================] - 19s 25ms/step\n",
      "densenet\n",
      "Found 751 images belonging to 1 classes.\n",
      "751/751 [==============================] - 43s 57ms/step\n",
      "inceptionv3\n",
      "Found 751 images belonging to 1 classes.\n",
      "751/751 [==============================] - 26s 34ms/step\n"
     ]
    }
   ],
   "source": [
    "preds = {}\n",
    "weights_folder = '/home/diegues/git/AutomaticHabitatMapping/src/weights/' # change this path to the one you want\n",
    "names = [f for f in os.listdir(weights_folder)]\n",
    "for name in names:\n",
    "    if('vgg' in name): \n",
    "        continue\n",
    "    if('nesterov' in name):\n",
    "        optimizer = SGD(lr = 0.001, nesterov=True)\n",
    "    else:\n",
    "        optimizer = SGD(lr=0.001)\n",
    "    cnn = loadModel(weights_folder + name, optimizer)\n",
    "\n",
    "    if('inception' in name):\n",
    "        target_size = (299, 299)\n",
    "    else:\n",
    "        target_size = (224, 224)\n",
    "\n",
    "    test_generator = test_datagen.flow_from_directory(\n",
    "            test_path,\n",
    "            target_size=target_size,\n",
    "            batch_size=1,\n",
    "            class_mode=None,\n",
    "            shuffle=False)\n",
    "    preds[name] = cnn.predict_generator(test_generator, \n",
    "                          steps=751, verbose=1)"
   ]
  },
  {
   "cell_type": "code",
   "execution_count": 5,
   "metadata": {},
   "outputs": [
    {
     "data": {
      "text/plain": [
       "{'densenet_0_5.h5': array([[4.6120551e-01, 4.9110910e-01, 3.4763999e-02, 7.0095751e-03,\n",
       "         5.9118313e-03],\n",
       "        [4.8661762e-01, 5.1132423e-01, 1.1806266e-03, 1.3327734e-04,\n",
       "         7.4424903e-04],\n",
       "        [7.6744419e-01, 2.1350206e-01, 9.7181909e-03, 4.6579815e-03,\n",
       "         4.6775546e-03],\n",
       "        ...,\n",
       "        [9.0716195e-01, 3.8934667e-02, 1.4641772e-03, 5.1192239e-02,\n",
       "         1.2470395e-03],\n",
       "        [8.1474966e-01, 9.4687656e-02, 1.9881288e-03, 8.5096866e-02,\n",
       "         3.4776775e-03],\n",
       "        [3.1355521e-01, 3.8456386e-01, 2.2119708e-02, 2.5595227e-01,\n",
       "         2.3808941e-02]], dtype=float32),\n",
       " 'inceptionv3_0_5.h5': array([[0.48203582, 0.286037  , 0.06999105, 0.1221614 , 0.03977476],\n",
       "        [0.35677874, 0.53785664, 0.02206844, 0.05113003, 0.03216613],\n",
       "        [0.3374777 , 0.37493646, 0.04040605, 0.20148447, 0.04569531],\n",
       "        ...,\n",
       "        [0.3586584 , 0.24180435, 0.09092722, 0.18147032, 0.12713973],\n",
       "        [0.17439285, 0.14983356, 0.05160796, 0.55139494, 0.07277063],\n",
       "        [0.4348179 , 0.25988463, 0.03717414, 0.22453745, 0.04358597]],\n",
       "       dtype=float32),\n",
       " 'resnet_0_5.h5': array([[0.18010294, 0.35092458, 0.10253228, 0.32157123, 0.04486888],\n",
       "        [0.19575833, 0.60742533, 0.06927554, 0.10719607, 0.02034473],\n",
       "        [0.25713873, 0.6635774 , 0.03879276, 0.0186121 , 0.0218791 ],\n",
       "        ...,\n",
       "        [0.7717184 , 0.1758707 , 0.00604162, 0.04034564, 0.00602372],\n",
       "        [0.8575918 , 0.10738587, 0.00166481, 0.0270007 , 0.00635688],\n",
       "        [0.32977045, 0.14938322, 0.03002996, 0.4666686 , 0.02414775]],\n",
       "       dtype=float32)}"
      ]
     },
     "execution_count": 5,
     "metadata": {},
     "output_type": "execute_result"
    }
   ],
   "source": [
    "preds"
   ]
  },
  {
   "cell_type": "code",
   "execution_count": 6,
   "metadata": {},
   "outputs": [],
   "source": [
    "for key in preds.keys():\n",
    "    cnn = pd.DataFrame(preds[key]).set_index(test_df.index)\n",
    "    cnn.columns = ['A3.1-A4.1', 'A3.7-A4.7', 'A5.1', 'A5.2', 'A5.4']\n",
    "    cnn['level3'] = cnn.idxmax(axis=1)\n",
    "    preds[key] = cnn"
   ]
  },
  {
   "cell_type": "code",
   "execution_count": 7,
   "metadata": {},
   "outputs": [
    {
     "data": {
      "text/html": [
       "<div>\n",
       "<style scoped>\n",
       "    .dataframe tbody tr th:only-of-type {\n",
       "        vertical-align: middle;\n",
       "    }\n",
       "\n",
       "    .dataframe tbody tr th {\n",
       "        vertical-align: top;\n",
       "    }\n",
       "\n",
       "    .dataframe thead th {\n",
       "        text-align: right;\n",
       "    }\n",
       "</style>\n",
       "<table border=\"1\" class=\"dataframe\">\n",
       "  <thead>\n",
       "    <tr style=\"text-align: right;\">\n",
       "      <th></th>\n",
       "      <th>resnet_0_5.h5</th>\n",
       "      <th>densenet_0_5.h5</th>\n",
       "      <th>inceptionv3_0_5.h5</th>\n",
       "      <th>level3</th>\n",
       "    </tr>\n",
       "    <tr>\n",
       "      <th>filename</th>\n",
       "      <th></th>\n",
       "      <th></th>\n",
       "      <th></th>\n",
       "      <th></th>\n",
       "    </tr>\n",
       "  </thead>\n",
       "  <tbody>\n",
       "    <tr>\n",
       "      <th>105317_cam-np3_frame1347.jpg</th>\n",
       "      <td>A3.7-A4.7</td>\n",
       "      <td>A3.7-A4.7</td>\n",
       "      <td>A3.1-A4.1</td>\n",
       "      <td>A3.7-A4.7</td>\n",
       "    </tr>\n",
       "    <tr>\n",
       "      <th>105317_cam-np3_frame1352.jpg</th>\n",
       "      <td>A3.7-A4.7</td>\n",
       "      <td>A3.7-A4.7</td>\n",
       "      <td>A3.7-A4.7</td>\n",
       "      <td>A3.7-A4.7</td>\n",
       "    </tr>\n",
       "    <tr>\n",
       "      <th>105317_cam-np3_frame1390.jpg</th>\n",
       "      <td>A3.7-A4.7</td>\n",
       "      <td>A3.1-A4.1</td>\n",
       "      <td>A3.7-A4.7</td>\n",
       "      <td>A3.1-A4.1</td>\n",
       "    </tr>\n",
       "    <tr>\n",
       "      <th>105317_cam-np3_frame1468.jpg</th>\n",
       "      <td>A3.7-A4.7</td>\n",
       "      <td>A3.1-A4.1</td>\n",
       "      <td>A3.1-A4.1</td>\n",
       "      <td>A3.1-A4.1</td>\n",
       "    </tr>\n",
       "    <tr>\n",
       "      <th>105317_cam-np3_frame1473.jpg</th>\n",
       "      <td>A3.7-A4.7</td>\n",
       "      <td>A3.1-A4.1</td>\n",
       "      <td>A3.1-A4.1</td>\n",
       "      <td>A3.1-A4.1</td>\n",
       "    </tr>\n",
       "  </tbody>\n",
       "</table>\n",
       "</div>"
      ],
      "text/plain": [
       "                             resnet_0_5.h5 densenet_0_5.h5 inceptionv3_0_5.h5  \\\n",
       "filename                                                                        \n",
       "105317_cam-np3_frame1347.jpg     A3.7-A4.7       A3.7-A4.7          A3.1-A4.1   \n",
       "105317_cam-np3_frame1352.jpg     A3.7-A4.7       A3.7-A4.7          A3.7-A4.7   \n",
       "105317_cam-np3_frame1390.jpg     A3.7-A4.7       A3.1-A4.1          A3.7-A4.7   \n",
       "105317_cam-np3_frame1468.jpg     A3.7-A4.7       A3.1-A4.1          A3.1-A4.1   \n",
       "105317_cam-np3_frame1473.jpg     A3.7-A4.7       A3.1-A4.1          A3.1-A4.1   \n",
       "\n",
       "                                 level3  \n",
       "filename                                 \n",
       "105317_cam-np3_frame1347.jpg  A3.7-A4.7  \n",
       "105317_cam-np3_frame1352.jpg  A3.7-A4.7  \n",
       "105317_cam-np3_frame1390.jpg  A3.1-A4.1  \n",
       "105317_cam-np3_frame1468.jpg  A3.1-A4.1  \n",
       "105317_cam-np3_frame1473.jpg  A3.1-A4.1  "
      ]
     },
     "execution_count": 7,
     "metadata": {},
     "output_type": "execute_result"
    }
   ],
   "source": [
    "res = pd.DataFrame()\n",
    "for key in preds.keys():\n",
    "    res[key] = preds[key].level3\n",
    "res['level3'] = test_df.level3.replace(['A3.1', 'A4.1'], 'A3.1-A4.1').replace(['A3.7', 'A4.7'], 'A3.7-A4.7')\n",
    "res.head()"
   ]
  },
  {
   "cell_type": "code",
   "execution_count": 8,
   "metadata": {},
   "outputs": [
    {
     "name": "stdout",
     "output_type": "stream",
     "text": [
      "resnet_0_5.h5\n",
      "0.6498002663115846\n",
      "             precision    recall  f1-score   support\n",
      "\n",
      "  A3.1-A4.1       0.71      0.72      0.72       408\n",
      "  A3.7-A4.7       0.42      0.67      0.52       128\n",
      "       A5.1       0.85      0.66      0.74       125\n",
      "       A5.2       0.65      0.35      0.45        49\n",
      "       A5.4       1.00      0.20      0.33        41\n",
      "\n",
      "avg / total       0.69      0.65      0.65       751\n",
      "\n",
      "densenet_0_5.h5\n",
      "0.7163781624500666\n",
      "             precision    recall  f1-score   support\n",
      "\n",
      "  A3.1-A4.1       0.72      0.90      0.80       408\n",
      "  A3.7-A4.7       0.64      0.48      0.55       128\n",
      "       A5.1       0.82      0.65      0.72       125\n",
      "       A5.2       0.53      0.35      0.42        49\n",
      "       A5.4       1.00      0.24      0.39        41\n",
      "\n",
      "avg / total       0.72      0.72      0.70       751\n",
      "\n",
      "inceptionv3_0_5.h5\n",
      "0.6591211717709721\n",
      "             precision    recall  f1-score   support\n",
      "\n",
      "  A3.1-A4.1       0.68      0.84      0.75       408\n",
      "  A3.7-A4.7       0.46      0.38      0.42       128\n",
      "       A5.1       0.76      0.67      0.71       125\n",
      "       A5.2       0.58      0.22      0.32        49\n",
      "       A5.4       0.91      0.24      0.38        41\n",
      "\n",
      "avg / total       0.66      0.66      0.64       751\n",
      "\n"
     ]
    }
   ],
   "source": [
    "for col in res.columns[:-1]:\n",
    "    print(col)\n",
    "    print(accuracy_score(res.level3, res[col]))#, precision_score(res.level3, res[col]), recall_score(res.level3, res[col]), f1_score(res.level3, res[col]))\n",
    "    print(classification_report(res.level3, res[col]))\n",
    "    "
   ]
  },
  {
   "cell_type": "markdown",
   "metadata": {},
   "source": [
    "# VGG16 with Dropout"
   ]
  },
  {
   "cell_type": "code",
   "execution_count": 26,
   "metadata": {},
   "outputs": [
    {
     "name": "stdout",
     "output_type": "stream",
     "text": [
      "_________________________________________________________________\n",
      "Layer (type)                 Output Shape              Param #   \n",
      "=================================================================\n",
      "input_10 (InputLayer)        (None, 224, 224, 3)       0         \n",
      "_________________________________________________________________\n",
      "block1_conv1 (Conv2D)        (None, 224, 224, 64)      1792      \n",
      "_________________________________________________________________\n",
      "block1_conv2 (Conv2D)        (None, 224, 224, 64)      36928     \n",
      "_________________________________________________________________\n",
      "block1_pool (MaxPooling2D)   (None, 112, 112, 64)      0         \n",
      "_________________________________________________________________\n",
      "block2_conv1 (Conv2D)        (None, 112, 112, 128)     73856     \n",
      "_________________________________________________________________\n",
      "block2_conv2 (Conv2D)        (None, 112, 112, 128)     147584    \n",
      "_________________________________________________________________\n",
      "block2_pool (MaxPooling2D)   (None, 56, 56, 128)       0         \n",
      "_________________________________________________________________\n",
      "block3_conv1 (Conv2D)        (None, 56, 56, 256)       295168    \n",
      "_________________________________________________________________\n",
      "block3_conv2 (Conv2D)        (None, 56, 56, 256)       590080    \n",
      "_________________________________________________________________\n",
      "block3_conv3 (Conv2D)        (None, 56, 56, 256)       590080    \n",
      "_________________________________________________________________\n",
      "block3_pool (MaxPooling2D)   (None, 28, 28, 256)       0         \n",
      "_________________________________________________________________\n",
      "block4_conv1 (Conv2D)        (None, 28, 28, 512)       1180160   \n",
      "_________________________________________________________________\n",
      "block4_conv2 (Conv2D)        (None, 28, 28, 512)       2359808   \n",
      "_________________________________________________________________\n",
      "block4_conv3 (Conv2D)        (None, 28, 28, 512)       2359808   \n",
      "_________________________________________________________________\n",
      "block4_pool (MaxPooling2D)   (None, 14, 14, 512)       0         \n",
      "_________________________________________________________________\n",
      "block5_conv1 (Conv2D)        (None, 14, 14, 512)       2359808   \n",
      "_________________________________________________________________\n",
      "block5_conv2 (Conv2D)        (None, 14, 14, 512)       2359808   \n",
      "_________________________________________________________________\n",
      "block5_conv3 (Conv2D)        (None, 14, 14, 512)       2359808   \n",
      "_________________________________________________________________\n",
      "block5_pool (MaxPooling2D)   (None, 7, 7, 512)         0         \n",
      "_________________________________________________________________\n",
      "flatten (Flatten)            (None, 25088)             0         \n",
      "_________________________________________________________________\n",
      "fc1 (Dense)                  (None, 4096)              102764544 \n",
      "_________________________________________________________________\n",
      "dropout_1 (Dropout)          (None, 4096)              0         \n",
      "_________________________________________________________________\n",
      "fc2 (Dense)                  (None, 4096)              16781312  \n",
      "_________________________________________________________________\n",
      "dropout_2 (Dropout)          (None, 4096)              0         \n",
      "_________________________________________________________________\n",
      "predictions (Dense)          (None, 5)                 20485     \n",
      "=================================================================\n",
      "Total params: 134,281,029\n",
      "Trainable params: 134,281,029\n",
      "Non-trainable params: 0\n",
      "_________________________________________________________________\n"
     ]
    },
    {
     "name": "stderr",
     "output_type": "stream",
     "text": [
      "/home/diegues/anaconda3/lib/python3.6/site-packages/ipykernel_launcher.py:15: UserWarning: Update your `Model` call to the Keras 2 API: `Model(inputs=Tensor(\"in..., outputs=Tensor(\"pr...)`\n",
      "  from ipykernel import kernelapp as app\n"
     ]
    }
   ],
   "source": [
    "vgg = VGG16(weights='imagenet')\n",
    "fc1 = vgg.layers[-3]\n",
    "fc2 = vgg.layers[-2]\n",
    "predictions = Dense(5, activation='softmax', name='predictions')\n",
    "\n",
    "\n",
    "dropout1 = Dropout(0.5)\n",
    "dropout2 = Dropout(0.5)\n",
    "\n",
    "x = dropout1(fc1.output)\n",
    "x = fc2(x)\n",
    "x = dropout2(x)\n",
    "predictors = predictions(x)\n",
    "\n",
    "vgg16 = Model(input=vgg.input, output=predictors)\n",
    "vgg16.summary()"
   ]
  },
  {
   "cell_type": "code",
   "execution_count": 40,
   "metadata": {},
   "outputs": [
    {
     "name": "stdout",
     "output_type": "stream",
     "text": [
      "Found 751 images belonging to 1 classes.\n",
      "751/751 [==============================] - 43s 57ms/step\n"
     ]
    }
   ],
   "source": [
    "name = '/home/diegues/git/AutomaticHabitatMapping/src/best_weights/vgg16_nesterov_cp.h5' # change this path to the one you want\n",
    "vgg16.load_weights(name)\n",
    "if('nesterov' in name):\n",
    "    optimizer = SGD(lr = 0.001, nesterov=True)\n",
    "else:\n",
    "    optimizer = SGD(lr=0.001)\n",
    "\n",
    "vgg16.compile(loss='categorical_crossentropy',\n",
    "            optimizer=optimizer, \n",
    "            metrics=['acc'])\n",
    "\n",
    "test_generator = test_datagen.flow_from_directory(\n",
    "        test_path,\n",
    "        target_size=(224,224),\n",
    "        batch_size=1,\n",
    "        class_mode=None,\n",
    "        shuffle=False)\n",
    "predictions = vgg16.predict_generator(test_generator, \n",
    "                      steps=751, verbose=1)"
   ]
  },
  {
   "cell_type": "code",
   "execution_count": 41,
   "metadata": {},
   "outputs": [],
   "source": [
    "_preds = pd.DataFrame(predictions).set_index(test_df.index)\n",
    "_preds.columns = ['A3.1-A4.1', 'A3.7-A4.7', 'A5.1', 'A5.2', 'A5.4']\n",
    "_preds['level3'] = _preds.idxmax(axis=1)"
   ]
  },
  {
   "cell_type": "code",
   "execution_count": 42,
   "metadata": {},
   "outputs": [
    {
     "name": "stdout",
     "output_type": "stream",
     "text": [
      "vgg16_nesterov_cp.h5\n",
      "0.33422103861517977\n",
      "             precision    recall  f1-score   support\n",
      "\n",
      "  A3.1-A4.1       0.53      0.26      0.35       408\n",
      "  A3.7-A4.7       0.27      0.49      0.35       128\n",
      "       A5.1       0.26      0.50      0.34       125\n",
      "       A5.2       0.09      0.06      0.07        49\n",
      "       A5.4       0.38      0.34      0.36        41\n",
      "\n",
      "avg / total       0.40      0.33      0.33       751\n",
      "\n"
     ]
    }
   ],
   "source": [
    "print(name.split('/')[-1])\n",
    "print(accuracy_score(res.level3, _preds.level3))\n",
    "print(classification_report(res.level3, _preds.level3))"
   ]
  },
  {
   "cell_type": "code",
   "execution_count": null,
   "metadata": {},
   "outputs": [],
   "source": []
  }
 ],
 "metadata": {
  "kernelspec": {
   "display_name": "Python 3",
   "language": "python",
   "name": "python3"
  },
  "language_info": {
   "codemirror_mode": {
    "name": "ipython",
    "version": 3
   },
   "file_extension": ".py",
   "mimetype": "text/x-python",
   "name": "python",
   "nbconvert_exporter": "python",
   "pygments_lexer": "ipython3",
   "version": "3.6.4"
  }
 },
 "nbformat": 4,
 "nbformat_minor": 2
}
