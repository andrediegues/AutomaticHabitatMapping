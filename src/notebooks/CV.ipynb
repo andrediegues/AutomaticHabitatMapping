{
 "cells": [
  {
   "cell_type": "markdown",
   "metadata": {},
   "source": [
    "# Computer Vision Manipulations"
   ]
  },
  {
   "cell_type": "code",
   "execution_count": 2,
   "metadata": {},
   "outputs": [],
   "source": [
    "import cv2\n",
    "import numpy as np\n",
    "import itertools as it\n",
    "import os\n",
    "import sys\n",
    "import multiprocessing as mp\n",
    "import pandas as pd"
   ]
  },
  {
   "cell_type": "markdown",
   "metadata": {},
   "source": [
    "## Functions"
   ]
  },
  {
   "cell_type": "code",
   "execution_count": 3,
   "metadata": {},
   "outputs": [],
   "source": [
    "def createHash(img, bot, top):\n",
    "    hashmap = {}\n",
    "    for i,j in it.product(range(img.shape[0]), range(img.shape[1])):\n",
    "        if img[i,j] not in hashmap:\n",
    "            if img[i,j] <= bot:\n",
    "                hashmap[img[i,j]] = 0\n",
    "            elif img[i,j] > top:\n",
    "                hashmap[img[i,j]] = 255\n",
    "            else:\n",
    "                hashmap[img[i,j]] = 255 * ((img[i,j] - bot) / (top - bot))\n",
    "                \n",
    "    return hashmap\n",
    "\n",
    "def grayscale(img):\n",
    "    \n",
    "    return cv2.cvtColor(img, cv2.COLOR_BGR2GRAY)"
   ]
  },
  {
   "cell_type": "code",
   "execution_count": 4,
   "metadata": {},
   "outputs": [],
   "source": [
    "def linearStretch(img):\n",
    "    bot = min(img.ravel())\n",
    "    top = max(img.ravel())\n",
    "        \n",
    "    hashmap = createHash(img, bot, top)\n",
    "    img2 = img\n",
    "    for i, j in it.product(range(img2.shape[0]), range(img2.shape[1])):\n",
    "        img2[i,j] = hashmap[img2[i,j]]\n",
    "        \n",
    "    return img2\n",
    "\n",
    "def createROI(img, h1, h2, w1, w2):\n",
    "    \n",
    "    return img[h1:h2, w1:w2]\n",
    "\n",
    "def powerStretch(img):\n",
    "    img2 = img\n",
    "    #img2 = cv2.cvtColor(img2,cv2.COLOR_BGR2RGB)  \n",
    "    img2 = img2/255.0      \n",
    "    im_power_law_transformation = cv2.pow(img2,2.5)\n",
    "    im_power_law_transformation *= 255 \n",
    "    im_power_law_transformation = im_power_law_transformation.astype('uint8')\n",
    "    #im_power_law_transformation = cv2.cvtColor(im_power_law_transformation,cv2.COLOR_BGR2RGB)\n",
    "        \n",
    "    return im_power_law_transformation\n",
    "\n",
    "def hsvStretch(img):\n",
    "    hsvimg = cv2.cvtColor(img, cv2.COLOR_RGB2HSV)    \n",
    "    hue = hsvimg[:,:,0]\n",
    "    saturation = hsvimg[:,:,1]\n",
    "    value = hsvimg[:,:,2]\n",
    "    valuecs = linearStretch(value)\n",
    "    saturationcs = linearStretch(saturation)\n",
    "    hsvcs = cv2.merge((hue,saturationcs,valuecs))\n",
    "    img = cv2.cvtColor(hsvcs, cv2.COLOR_HSV2RGB)\n",
    "   \n",
    "    return img\n",
    "\n",
    "def findmax(img):\n",
    "    maxpixel = img[0,0]\n",
    "    maxBlue = maxpixel[0]\n",
    "    maxGreen = maxpixel[1]\n",
    "    maxRed = maxpixel[2]\n",
    "    for i,j in it.product(range(img.shape[0]), range(img.shape[1])):\n",
    "        bluePixel = img[i,j,0]\n",
    "        greenPixel = img[i,j,1]\n",
    "        redPixel = img[i,j,2]\n",
    "        if bluePixel > maxBlue:\n",
    "            maxBlue = img[i,j,0]\n",
    "        if greenPixel > maxGreen:\n",
    "            maxGreen = img[i,j,1]\n",
    "        if redPixel > maxRed:\n",
    "            maxRed = img[i,j,2]\n",
    "            \n",
    "    return [maxBlue,maxGreen,maxRed]\n",
    "\n",
    "def rescale(pixel, white):\n",
    "    val = pixel * white\n",
    "    if pixel * white > 255:\n",
    "        return 255 \n",
    "    return val\n",
    "\n",
    "def whitebalance(img):\n",
    "    newwhite = findmax(img)\n",
    "    scale = [255 / e for e in newwhite]\n",
    "    b = img[:,:,0]\n",
    "    g = img[:,:,1]\n",
    "    r = img[:,:,2]\n",
    "    hb = {}\n",
    "    hg = {}\n",
    "    hr = {}\n",
    "    for e in list(set(b.ravel())):\n",
    "        hb[e] = rescale(e, scale[0])\n",
    "    for e in list(set(g.ravel())):\n",
    "        hg[e] = rescale(e, scale[1])\n",
    "    for e in list(set(r.ravel())):\n",
    "        hr[e] = rescale(e, scale[2])\n",
    "    newimg = img\n",
    "    for i,j in it.product(range(img.shape[0]), range(img.shape[1])):\n",
    "        newimg[i,j] = np.array([hb[img[i,j][0]],hg[img[i,j][1]],hr[img[i,j][2]]])\n",
    "    return newimg"
   ]
  },
  {
   "cell_type": "code",
   "execution_count": 5,
   "metadata": {},
   "outputs": [],
   "source": [
    "def getImagesPath(parent_path, child_path, filenames):\n",
    "    paths = []\n",
    "    for f in filenames:\n",
    "        folder = f[:f.find('frame')-1]\n",
    "        framename = 'wb_' + f[f.find('frame'):]\n",
    "        if os.path.exists(parent_path + folder + child_path + framename):\n",
    "            paths.append((folder,framename))\n",
    "        \n",
    "    return paths       "
   ]
  },
  {
   "cell_type": "code",
   "execution_count": 6,
   "metadata": {},
   "outputs": [
    {
     "data": {
      "text/plain": [
       "[('104728_cam-np3', 'wb_frame5.jpg'),\n",
       " ('104728_cam-np3', 'wb_frame9.jpg'),\n",
       " ('104728_cam-np3', 'wb_frame50.jpg'),\n",
       " ('104728_cam-np3', 'wb_frame51.jpg'),\n",
       " ('104728_cam-np3', 'wb_frame52.jpg')]"
      ]
     },
     "execution_count": 6,
     "metadata": {},
     "output_type": "execute_result"
    }
   ],
   "source": [
    "parent_path = '/home/diegues/2018-05-01-OMARE/logs/lauv-noptilus-3/20180501/' # change this path to the one you want\n",
    "child_path = '/mra/FilteredPhotos/WhiteBalance/' # change this path to the one you want\n",
    "\n",
    "df_path = \"/home/diegues/Desktop/ProcessedImages/total_data.csv\" # change this path to the one you want\n",
    "data = pd.read_csv(df_path)\n",
    "\n",
    "filenames = data['filename']\n",
    "image_paths = getImagesPath(parent_path, child_path, filenames)\n",
    "image_paths[:5]"
   ]
  },
  {
   "cell_type": "code",
   "execution_count": 7,
   "metadata": {},
   "outputs": [],
   "source": [
    "cv_path = '/'.join(df_path.split('/')[:-1]) + '/CV/'\n",
    "wb_path = '/wb/'\n",
    "hsv_path = '/hsv_cs/'\n",
    "lcs_path = '/lcs/'\n",
    "pcs_path = '/pcs/'\n",
    "if not os.path.exists(cv_path):\n",
    "    os.mkdir(cv_path)\n",
    "for folder in [f[0] for f in image_paths]:\n",
    "    if not os.path.exists(cv_path + folder):\n",
    "        os.mkdir(cv_path + folder)        \n",
    "        os.mkdir(cv_path + folder + wb_path)\n",
    "        os.mkdir(cv_path + folder + hsv_path)\n",
    "        os.mkdir(cv_path + folder + lcs_path)\n",
    "        os.mkdir(cv_path + folder + pcs_path)\n"
   ]
  },
  {
   "cell_type": "code",
   "execution_count": 13,
   "metadata": {},
   "outputs": [],
   "source": [
    "def createImages(t):\n",
    "    img = cv2.imread(parent_path + t[0] + child_path + t[1])\n",
    "    #print('Processing', t)\n",
    "    wb_img = whitebalance(img)\n",
    "    hsv_cs = hsvStretch(wb_img)\n",
    "    lcs = linearStretch(grayscale(img))\n",
    "    pcs = powerStretch(grayscale(img))\n",
    "    cv2.imwrite(cv_path + t[0] + wb_path + t[0] + t[1][t[1].find('_'):], wb_img)\n",
    "    cv2.imwrite(cv_path + t[0] + hsv_path + t[0] + t[1][t[1].find('_'):], hsv_cs)\n",
    "    cv2.imwrite(cv_path + t[0] + lcs_path + t[0] + t[1][t[1].find('_'):], lcs)\n",
    "    cv2.imwrite(cv_path + t[0] + pcs_path + t[0] + t[1][t[1].find('_'):], pcs)"
   ]
  },
  {
   "cell_type": "code",
   "execution_count": null,
   "metadata": {},
   "outputs": [],
   "source": [
    "pool = mp.Pool(processes=mp.cpu_count())\n",
    "pool.map(createImages, image_paths)"
   ]
  }
 ],
 "metadata": {
  "kernelspec": {
   "display_name": "Python 3",
   "language": "python",
   "name": "python3"
  },
  "language_info": {
   "codemirror_mode": {
    "name": "ipython",
    "version": 3
   },
   "file_extension": ".py",
   "mimetype": "text/x-python",
   "name": "python",
   "nbconvert_exporter": "python",
   "pygments_lexer": "ipython3",
   "version": "3.6.4"
  }
 },
 "nbformat": 4,
 "nbformat_minor": 2
}
