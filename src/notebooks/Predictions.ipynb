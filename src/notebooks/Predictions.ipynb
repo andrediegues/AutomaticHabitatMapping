{
 "cells": [
  {
   "cell_type": "code",
   "execution_count": 83,
   "metadata": {},
   "outputs": [],
   "source": [
    "import pandas as pd\n",
    "import numpy as np\n",
    "import os\n",
    "import matplotlib.pyplot as plt\n",
    "from shutil import copyfile\n",
    "from sklearn.model_selection import train_test_split\n",
    "from IPython.display import SVG,display\n",
    "from keras.models import Sequential, Model\n",
    "from keras.layers import Dense, Dropout, Conv2D, MaxPooling2D, Flatten\n",
    "from keras.preprocessing.image import ImageDataGenerator\n",
    "from keras.optimizers import SGD, Adam\n",
    "from keras.callbacks import TensorBoard, ModelCheckpoint, EarlyStopping, ReduceLROnPlateau\n",
    "from keras.utils import to_categorical\n",
    "from keras.applications import VGG16, DenseNet201, ResNet50, InceptionV3, InceptionResNetV2\n",
    "from keras.applications.vgg16 import decode_predictions\n",
    "from keras.preprocessing.image import load_img\n",
    "from keras.preprocessing.image import ImageDataGenerator\n",
    "from shutil import copyfile\n",
    "from sklearn.metrics import classification_report, accuracy_score"
   ]
  },
  {
   "cell_type": "code",
   "execution_count": 84,
   "metadata": {},
   "outputs": [],
   "source": [
    "folder = '/media/diegues/be7ed47e-fd91-44a9-b591-4737c9a6fa3f/20180501/ProcessedImages/'\n",
    "unlabeled_names = [f for f in os.listdir('/media/diegues/be7ed47e-fd91-44a9-b591-4737c9a6fa3f/ProcessedImages/unlabeled') if 'jpg' in f]\n",
    "unknown2_names = os.listdir('/media/diegues/be7ed47e-fd91-44a9-b591-4737c9a6fa3f/ProcessedImages/test/unknown2/') \n"
   ]
  },
  {
   "cell_type": "code",
   "execution_count": 92,
   "metadata": {},
   "outputs": [
    {
     "data": {
      "text/plain": [
       "3312"
      ]
     },
     "execution_count": 92,
     "metadata": {},
     "output_type": "execute_result"
    }
   ],
   "source": [
    "subfolders = [d for d in os.listdir(folder) if os.path.isdir(folder + d) and not d.isalpha()]\n",
    "count = 0\n",
    "to_Remove = []\n",
    "for i in unknown2_names:\n",
    "    for j in unlabeled_names:\n",
    "        if i == j:\n",
    "            count += 1\n",
    "            to_Remove.append(i)\n",
    "            break\n",
    "len(unlabeled_names)"
   ]
  },
  {
   "cell_type": "code",
   "execution_count": 93,
   "metadata": {},
   "outputs": [],
   "source": [
    "\n",
    "new_folder = folder + 'unknown/'\n",
    "if(not os.path.exists(new_folder)):\n",
    "    os.mkdir(new_folder)\n",
    "remaining = pd.DataFrame()\n",
    "for d in subfolders:\n",
    "    df = pd.read_csv(folder + d + \"/\" + d + \".csv\").set_index('filename')\n",
    "    for f in [file for file in os.listdir(folder + d) if('jpg' in file and file in unlabeled_names)]:\n",
    "        copyfile(folder + d + '/' + f, new_folder + f)\n",
    "        \n"
   ]
  },
  {
   "cell_type": "code",
   "execution_count": 94,
   "metadata": {},
   "outputs": [],
   "source": [
    "remaining['filename'] = os.listdir(new_folder)"
   ]
  },
  {
   "cell_type": "code",
   "execution_count": 95,
   "metadata": {},
   "outputs": [
    {
     "data": {
      "text/html": [
       "<div>\n",
       "<style scoped>\n",
       "    .dataframe tbody tr th:only-of-type {\n",
       "        vertical-align: middle;\n",
       "    }\n",
       "\n",
       "    .dataframe tbody tr th {\n",
       "        vertical-align: top;\n",
       "    }\n",
       "\n",
       "    .dataframe thead th {\n",
       "        text-align: right;\n",
       "    }\n",
       "</style>\n",
       "<table border=\"1\" class=\"dataframe\">\n",
       "  <thead>\n",
       "    <tr style=\"text-align: right;\">\n",
       "      <th></th>\n",
       "      <th>filename</th>\n",
       "    </tr>\n",
       "  </thead>\n",
       "  <tbody>\n",
       "    <tr>\n",
       "      <th>0</th>\n",
       "      <td>125355_forcadinho-np3_frame199.jpg</td>\n",
       "    </tr>\n",
       "    <tr>\n",
       "      <th>1</th>\n",
       "      <td>113610_cam_survey_1_frame137.jpg</td>\n",
       "    </tr>\n",
       "    <tr>\n",
       "      <th>2</th>\n",
       "      <td>113610_cam_survey_1_frame323.jpg</td>\n",
       "    </tr>\n",
       "    <tr>\n",
       "      <th>3</th>\n",
       "      <td>125355_forcadinho-np3_frame396.jpg</td>\n",
       "    </tr>\n",
       "    <tr>\n",
       "      <th>4</th>\n",
       "      <td>132143_forcadinho-np3_frame2900.jpg</td>\n",
       "    </tr>\n",
       "  </tbody>\n",
       "</table>\n",
       "</div>"
      ],
      "text/plain": [
       "                              filename\n",
       "0   125355_forcadinho-np3_frame199.jpg\n",
       "1     113610_cam_survey_1_frame137.jpg\n",
       "2     113610_cam_survey_1_frame323.jpg\n",
       "3   125355_forcadinho-np3_frame396.jpg\n",
       "4  132143_forcadinho-np3_frame2900.jpg"
      ]
     },
     "execution_count": 95,
     "metadata": {},
     "output_type": "execute_result"
    }
   ],
   "source": [
    "remaining.head()"
   ]
  },
  {
   "cell_type": "code",
   "execution_count": 97,
   "metadata": {},
   "outputs": [
    {
     "data": {
      "text/html": [
       "<div>\n",
       "<style scoped>\n",
       "    .dataframe tbody tr th:only-of-type {\n",
       "        vertical-align: middle;\n",
       "    }\n",
       "\n",
       "    .dataframe tbody tr th {\n",
       "        vertical-align: top;\n",
       "    }\n",
       "\n",
       "    .dataframe thead th {\n",
       "        text-align: right;\n",
       "    }\n",
       "</style>\n",
       "<table border=\"1\" class=\"dataframe\">\n",
       "  <thead>\n",
       "    <tr style=\"text-align: right;\">\n",
       "      <th></th>\n",
       "      <th>filename</th>\n",
       "    </tr>\n",
       "  </thead>\n",
       "  <tbody>\n",
       "    <tr>\n",
       "      <th>0</th>\n",
       "      <td>125355_forcadinho-np3_frame199.jpg</td>\n",
       "    </tr>\n",
       "    <tr>\n",
       "      <th>1</th>\n",
       "      <td>113610_cam_survey_1_frame137.jpg</td>\n",
       "    </tr>\n",
       "    <tr>\n",
       "      <th>2</th>\n",
       "      <td>113610_cam_survey_1_frame323.jpg</td>\n",
       "    </tr>\n",
       "    <tr>\n",
       "      <th>3</th>\n",
       "      <td>125355_forcadinho-np3_frame396.jpg</td>\n",
       "    </tr>\n",
       "    <tr>\n",
       "      <th>4</th>\n",
       "      <td>132143_forcadinho-np3_frame2900.jpg</td>\n",
       "    </tr>\n",
       "  </tbody>\n",
       "</table>\n",
       "</div>"
      ],
      "text/plain": [
       "                              filename\n",
       "0   125355_forcadinho-np3_frame199.jpg\n",
       "1     113610_cam_survey_1_frame137.jpg\n",
       "2     113610_cam_survey_1_frame323.jpg\n",
       "3   125355_forcadinho-np3_frame396.jpg\n",
       "4  132143_forcadinho-np3_frame2900.jpg"
      ]
     },
     "execution_count": 97,
     "metadata": {},
     "output_type": "execute_result"
    }
   ],
   "source": [
    "remaining.to_csv(folder + 'unknown.csv', index=False)\n",
    "#remaining = pd.read_csv(folder + 'unknown.csv')\n",
    "remaining.head()"
   ]
  },
  {
   "cell_type": "markdown",
   "metadata": {},
   "source": [
    "# Predictions\n"
   ]
  },
  {
   "cell_type": "code",
   "execution_count": 98,
   "metadata": {},
   "outputs": [
    {
     "name": "stdout",
     "output_type": "stream",
     "text": [
      "Found 3312 images belonging to 1 classes.\n"
     ]
    }
   ],
   "source": [
    "test_path = folder + 'test/'\n",
    "test_datagen = ImageDataGenerator(rescale=1./255)\n",
    "test_generator = test_datagen.flow_from_directory(\n",
    "        test_path,\n",
    "        target_size=(224, 224),\n",
    "        batch_size=1,\n",
    "        class_mode=None,\n",
    "        shuffle=False)"
   ]
  },
  {
   "cell_type": "code",
   "execution_count": 99,
   "metadata": {},
   "outputs": [],
   "source": [
    "def loadModel(model):\n",
    "    if('dense' in model):\n",
    "        print('densenet')\n",
    "        return DenseNet201()\n",
    "    elif('res' in model):\n",
    "        print('resnet')\n",
    "        return ResNet50()\n",
    "    elif('inceptionv3' in model):\n",
    "        print('inceptionv3')\n",
    "        return InceptionV3()\n",
    "    else:\n",
    "        print(\"vgg16\")\n",
    "        return VGG16(weights='imagenet')\n",
    "        "
   ]
  },
  {
   "cell_type": "code",
   "execution_count": 100,
   "metadata": {},
   "outputs": [
    {
     "name": "stdout",
     "output_type": "stream",
     "text": [
      "densenet\n"
     ]
    },
    {
     "name": "stderr",
     "output_type": "stream",
     "text": [
      "/home/diegues/anaconda3/lib/python3.6/site-packages/ipykernel_launcher.py:4: UserWarning: Update your `Model` call to the Keras 2 API: `Model(inputs=Tensor(\"in..., outputs=Tensor(\"pr...)`\n",
      "  after removing the cwd from sys.path.\n"
     ]
    }
   ],
   "source": [
    "weights = 'densenet.h5'\n",
    "model = loadModel(weights)\n",
    "x = Dense(5, activation='softmax', name='predictions')(model.layers[-2].output)\n",
    "M = Model(input=model.input, output=x)"
   ]
  },
  {
   "cell_type": "code",
   "execution_count": 101,
   "metadata": {},
   "outputs": [],
   "source": [
    "optimizer = SGD(lr=0.001)\n",
    "M.load_weights('/home/diegues/git/AutomaticHabitatMapping/src/best_weights/' + weights)\n",
    "M.compile(loss='categorical_crossentropy',\n",
    "                optimizer=optimizer, \n",
    "                metrics=['acc'])"
   ]
  },
  {
   "cell_type": "code",
   "execution_count": 102,
   "metadata": {},
   "outputs": [
    {
     "name": "stdout",
     "output_type": "stream",
     "text": [
      "3312/3312 [==============================] - 183s 55ms/step\n"
     ]
    }
   ],
   "source": [
    "predictions_densenet = pd.DataFrame(M.predict_generator(test_generator, steps = len(remaining), verbose=1))\n",
    "predictions_densenet.columns = ['A3.1-A4.1', 'A3.7-A4.7', 'A5.1', 'A5.2', 'A5.4']\n",
    "predictions_densenet['level3'] = predictions_densenet.idxmax(axis=1)"
   ]
  },
  {
   "cell_type": "code",
   "execution_count": 103,
   "metadata": {},
   "outputs": [],
   "source": [
    "remaining['densenet'] = predictions_densenet['level3']\n",
    "remaining.to_csv(folder + 'unknown.csv', index=False)"
   ]
  },
  {
   "cell_type": "code",
   "execution_count": 104,
   "metadata": {},
   "outputs": [
    {
     "name": "stdout",
     "output_type": "stream",
     "text": [
      "resnet\n"
     ]
    },
    {
     "name": "stderr",
     "output_type": "stream",
     "text": [
      "/home/diegues/anaconda3/lib/python3.6/site-packages/ipykernel_launcher.py:4: UserWarning: Update your `Model` call to the Keras 2 API: `Model(inputs=Tensor(\"in..., outputs=Tensor(\"pr...)`\n",
      "  after removing the cwd from sys.path.\n"
     ]
    }
   ],
   "source": [
    "weights = 'resnet.h5'\n",
    "model = loadModel(weights)\n",
    "x = Dense(5, activation='softmax', name='predictions')(model.layers[-2].output)\n",
    "M = Model(input=model.input, output=x)\n",
    "optimizer = SGD(lr=0.001)\n",
    "M.load_weights('/home/diegues/git/AutomaticHabitatMapping/src/best_weights/' + weights)\n",
    "M.compile(loss='categorical_crossentropy',\n",
    "                optimizer=optimizer, \n",
    "                metrics=['acc'])"
   ]
  },
  {
   "cell_type": "code",
   "execution_count": 105,
   "metadata": {},
   "outputs": [
    {
     "name": "stdout",
     "output_type": "stream",
     "text": [
      "3312/3312 [==============================] - 87s 26ms/step\n"
     ]
    }
   ],
   "source": [
    "predictions_resnet = pd.DataFrame(M.predict_generator(test_generator, steps = len(remaining), verbose=1))\n",
    "predictions_resnet.columns = ['A3.1-A4.1', 'A3.7-A4.7', 'A5.1', 'A5.2', 'A5.4']\n",
    "predictions_resnet['level3'] = predictions_resnet.idxmax(axis=1)"
   ]
  },
  {
   "cell_type": "code",
   "execution_count": 106,
   "metadata": {},
   "outputs": [],
   "source": [
    "remaining['resnet'] = predictions_resnet['level3']\n",
    "remaining.to_csv(folder + 'unknown.csv', index=False)"
   ]
  },
  {
   "cell_type": "code",
   "execution_count": 107,
   "metadata": {},
   "outputs": [
    {
     "name": "stdout",
     "output_type": "stream",
     "text": [
      "vgg16\n"
     ]
    },
    {
     "name": "stderr",
     "output_type": "stream",
     "text": [
      "/home/diegues/anaconda3/lib/python3.6/site-packages/ipykernel_launcher.py:12: UserWarning: Update your `Model` call to the Keras 2 API: `Model(inputs=Tensor(\"in..., outputs=Tensor(\"pr...)`\n",
      "  if sys.path[0] == '':\n"
     ]
    }
   ],
   "source": [
    "weights = 'vgg16_0_001_full_training.h5'\n",
    "model = loadModel(weights)\n",
    "fc1 = model.layers[-3]\n",
    "fc2 = model.layers[-2]\n",
    "predictions = Dense(5, activation='softmax', name='predictions')\n",
    "dropout1 = Dropout(0.5)\n",
    "dropout2 = Dropout(0.5)\n",
    "x = dropout1(fc1.output)\n",
    "x = fc2(x)\n",
    "x = dropout2(x)\n",
    "predictors = predictions(x)\n",
    "M = Model(input=model.input, output=predictors)\n",
    "\n",
    "optimizer = SGD(lr=0.001)\n",
    "M.load_weights('/home/diegues/git/AutomaticHabitatMapping/src/best_weights/' + weights)\n",
    "M.compile(loss='categorical_crossentropy',\n",
    "                optimizer=optimizer, \n",
    "                metrics=['acc'])"
   ]
  },
  {
   "cell_type": "code",
   "execution_count": 108,
   "metadata": {},
   "outputs": [
    {
     "name": "stdout",
     "output_type": "stream",
     "text": [
      "3312/3312 [==============================] - 94s 28ms/step\n"
     ]
    }
   ],
   "source": [
    "predictions_vgg = pd.DataFrame(M.predict_generator(test_generator, steps = len(remaining), verbose=1))\n",
    "predictions_vgg.columns = ['A3.1-A4.1', 'A3.7-A4.7', 'A5.1', 'A5.2', 'A5.4']\n",
    "predictions_vgg['level3'] = predictions_vgg.idxmax(axis=1)"
   ]
  },
  {
   "cell_type": "code",
   "execution_count": 109,
   "metadata": {},
   "outputs": [],
   "source": [
    "remaining['vgg'] = predictions_vgg['level3']\n",
    "remaining.to_csv(folder + 'unknown.csv', index=False)"
   ]
  },
  {
   "cell_type": "code",
   "execution_count": 110,
   "metadata": {},
   "outputs": [
    {
     "data": {
      "text/html": [
       "<div>\n",
       "<style scoped>\n",
       "    .dataframe tbody tr th:only-of-type {\n",
       "        vertical-align: middle;\n",
       "    }\n",
       "\n",
       "    .dataframe tbody tr th {\n",
       "        vertical-align: top;\n",
       "    }\n",
       "\n",
       "    .dataframe thead th {\n",
       "        text-align: right;\n",
       "    }\n",
       "</style>\n",
       "<table border=\"1\" class=\"dataframe\">\n",
       "  <thead>\n",
       "    <tr style=\"text-align: right;\">\n",
       "      <th></th>\n",
       "      <th>filename</th>\n",
       "      <th>densenet</th>\n",
       "      <th>resnet</th>\n",
       "      <th>vgg</th>\n",
       "    </tr>\n",
       "  </thead>\n",
       "  <tbody>\n",
       "    <tr>\n",
       "      <th>0</th>\n",
       "      <td>125355_forcadinho-np3_frame199.jpg</td>\n",
       "      <td>A3.1-A4.1</td>\n",
       "      <td>A3.7-A4.7</td>\n",
       "      <td>A3.1-A4.1</td>\n",
       "    </tr>\n",
       "    <tr>\n",
       "      <th>1</th>\n",
       "      <td>113610_cam_survey_1_frame137.jpg</td>\n",
       "      <td>A3.1-A4.1</td>\n",
       "      <td>A3.1-A4.1</td>\n",
       "      <td>A3.7-A4.7</td>\n",
       "    </tr>\n",
       "    <tr>\n",
       "      <th>2</th>\n",
       "      <td>113610_cam_survey_1_frame323.jpg</td>\n",
       "      <td>A3.1-A4.1</td>\n",
       "      <td>A3.7-A4.7</td>\n",
       "      <td>A3.1-A4.1</td>\n",
       "    </tr>\n",
       "    <tr>\n",
       "      <th>3</th>\n",
       "      <td>125355_forcadinho-np3_frame396.jpg</td>\n",
       "      <td>A3.7-A4.7</td>\n",
       "      <td>A5.2</td>\n",
       "      <td>A3.7-A4.7</td>\n",
       "    </tr>\n",
       "    <tr>\n",
       "      <th>4</th>\n",
       "      <td>132143_forcadinho-np3_frame2900.jpg</td>\n",
       "      <td>A3.7-A4.7</td>\n",
       "      <td>A5.2</td>\n",
       "      <td>A3.7-A4.7</td>\n",
       "    </tr>\n",
       "  </tbody>\n",
       "</table>\n",
       "</div>"
      ],
      "text/plain": [
       "                              filename   densenet     resnet        vgg\n",
       "0   125355_forcadinho-np3_frame199.jpg  A3.1-A4.1  A3.7-A4.7  A3.1-A4.1\n",
       "1     113610_cam_survey_1_frame137.jpg  A3.1-A4.1  A3.1-A4.1  A3.7-A4.7\n",
       "2     113610_cam_survey_1_frame323.jpg  A3.1-A4.1  A3.7-A4.7  A3.1-A4.1\n",
       "3   125355_forcadinho-np3_frame396.jpg  A3.7-A4.7       A5.2  A3.7-A4.7\n",
       "4  132143_forcadinho-np3_frame2900.jpg  A3.7-A4.7       A5.2  A3.7-A4.7"
      ]
     },
     "execution_count": 110,
     "metadata": {},
     "output_type": "execute_result"
    }
   ],
   "source": [
    "remaining.head()"
   ]
  },
  {
   "cell_type": "code",
   "execution_count": 111,
   "metadata": {},
   "outputs": [
    {
     "data": {
      "text/plain": [
       "A3.1-A4.1    1953\n",
       "A3.7-A4.7     682\n",
       "A5.1          546\n",
       "A5.2          103\n",
       "A5.4           28\n",
       "Name: densenet, dtype: int64"
      ]
     },
     "execution_count": 111,
     "metadata": {},
     "output_type": "execute_result"
    }
   ],
   "source": [
    "remaining.densenet.value_counts()"
   ]
  },
  {
   "cell_type": "code",
   "execution_count": 112,
   "metadata": {},
   "outputs": [
    {
     "data": {
      "text/plain": [
       "A3.1-A4.1    1754\n",
       "A3.7-A4.7     839\n",
       "A5.1          471\n",
       "A5.2          217\n",
       "A5.4           31\n",
       "Name: resnet, dtype: int64"
      ]
     },
     "execution_count": 112,
     "metadata": {},
     "output_type": "execute_result"
    }
   ],
   "source": [
    "remaining.resnet.value_counts()"
   ]
  },
  {
   "cell_type": "code",
   "execution_count": 113,
   "metadata": {},
   "outputs": [
    {
     "data": {
      "text/plain": [
       "A3.1-A4.1    2172\n",
       "A3.7-A4.7     541\n",
       "A5.1          483\n",
       "A5.2           77\n",
       "A5.4           39\n",
       "Name: vgg, dtype: int64"
      ]
     },
     "execution_count": 113,
     "metadata": {},
     "output_type": "execute_result"
    }
   ],
   "source": [
    "remaining.vgg.value_counts()"
   ]
  }
 ],
 "metadata": {
  "kernelspec": {
   "display_name": "Python 3",
   "language": "python",
   "name": "python3"
  },
  "language_info": {
   "codemirror_mode": {
    "name": "ipython",
    "version": 3
   },
   "file_extension": ".py",
   "mimetype": "text/x-python",
   "name": "python",
   "nbconvert_exporter": "python",
   "pygments_lexer": "ipython3",
   "version": "3.6.4"
  }
 },
 "nbformat": 4,
 "nbformat_minor": 2
}
