{
 "cells": [
  {
   "cell_type": "markdown",
   "metadata": {},
   "source": [
    "# Machine Learning Modelling and Prediction"
   ]
  },
  {
   "cell_type": "code",
   "execution_count": 2,
   "metadata": {},
   "outputs": [],
   "source": [
    "import pandas as pd\n",
    "import numpy as np\n",
    "import cv2\n",
    "import os\n",
    "from shutil import copyfile"
   ]
  },
  {
   "cell_type": "code",
   "execution_count": 3,
   "metadata": {},
   "outputs": [
    {
     "name": "stderr",
     "output_type": "stream",
     "text": [
      "/home/diegues/anaconda3/lib/python3.6/site-packages/h5py/__init__.py:36: FutureWarning: Conversion of the second argument of issubdtype from `float` to `np.floating` is deprecated. In future, it will be treated as `np.float64 == np.dtype(float).type`.\n",
      "  from ._conv import register_converters as _register_converters\n",
      "Using TensorFlow backend.\n"
     ]
    }
   ],
   "source": [
    "from sklearn.model_selection import train_test_split\n",
    "from sklearn.ensemble import RandomForestClassifier\n",
    "from sklearn import svm\n",
    "from sklearn.metrics import accuracy_score, confusion_matrix\n",
    "from sklearn.neural_network import MLPClassifier\n",
    "from sklearn.preprocessing import StandardScaler\n",
    "from keras.models import Sequential\n",
    "from keras.layers import Dense, Dropout, Conv2D, MaxPooling2D, Flatten\n",
    "from keras.preprocessing.image import ImageDataGenerator"
   ]
  },
  {
   "cell_type": "markdown",
   "metadata": {},
   "source": [
    "Defining functions to print wrong predictions for comparison and to create the environment in the machine in order to use images in the models."
   ]
  },
  {
   "cell_type": "code",
   "execution_count": 4,
   "metadata": {},
   "outputs": [],
   "source": [
    "def printWrongPreds(preds, targets):\n",
    "    df = pd.DataFrame()\n",
    "    images = []\n",
    "    predictions = []\n",
    "    targets_ = []\n",
    "    if(type(preds) == pd.DataFrame):          \n",
    "        predsClass = preds.idxmax(axis=1)\n",
    "        targetsClass = targets.idxmax(axis=1)  \n",
    "        for i in range(0,len(predsClass)):\n",
    "            if(predsClass[i] != targetsClass[i]):\n",
    "                images.append(targets.index[i])\n",
    "                predictions.append(predsClass[i])\n",
    "                targets_.append(targetsClass[i])\n",
    "                print('Image:', targets.index[i],'\\t\\tPrediction:', predsClass[i], '\\tTarget:', targetsClass[i])\n",
    "    else:\n",
    "        for i in range(0,len(preds)):\n",
    "            if(preds[i] != targets['level3'][i]):\n",
    "                images.append(targets.index[i])\n",
    "                predictions.append(preds[i])\n",
    "                targets_.append(targets['level3'][i])\n",
    "                print('Image:', targets.index[i],'\\t\\tPrediction:', preds[i], '\\tTarget:', targets['level3'][i])\n",
    "    df['image'] = images\n",
    "    df['prediction'] = predictions\n",
    "    df['target'] = targets_\n",
    "    return df\n",
    "\n",
    "def createDirectoryEnvironment(train_data, train_targets, val_data, val_targets, path):\n",
    "    trainpath = path + 'train/'\n",
    "    valpath = path + 'validation/'\n",
    "    if(os.listdir() == 2):\n",
    "        return trainpath,valpath\n",
    "    if(not os.path.exists(trainpath)):\n",
    "        os.mkdir(trainpath)\n",
    "    if(not os.path.exists(valpath)):\n",
    "        os.mkdir(valpath)\n",
    "        \n",
    "    classes = train_targets.columns.append(val_targets.columns).drop_duplicates()  \n",
    "    for c in classes:\n",
    "        train_class = trainpath + c + '/'\n",
    "        val_class = valpath + c + '/'\n",
    "        if(not os.path.exists(train_class)):\n",
    "            os.mkdir(train_class)\n",
    "        if(not os.path.exists(val_class)):\n",
    "            os.mkdir(val_class)\n",
    "            \n",
    "    for f in train_data.index.values:\n",
    "        copyfile(path + '../' + f[:f.find('frame')-1] + '/' + f, trainpath + train_targets.loc[f].idxmax(axis = 1) + '/' + f)\n",
    "    for f in val_data.index.values:\n",
    "        copyfile(path + '../' + f[:f.find('frame')-1] + '/' + f, valpath + val_targets.loc[f].idxmax(axis = 1) + '/' + f)\n",
    "    \n",
    "    return trainpath, valpath"
   ]
  },
  {
   "cell_type": "markdown",
   "metadata": {},
   "source": [
    "## Data Import and Train Test split\n",
    "\n",
    "Here we import the data and process it with one-hot encoding, dropping the columns that did not add relevance to the models. Also, we're predicting (for now) only the level 3 of the EUNIS taxonomy, as the amount of data is still short."
   ]
  },
  {
   "cell_type": "code",
   "execution_count": 5,
   "metadata": {},
   "outputs": [
    {
     "name": "stdout",
     "output_type": "stream",
     "text": [
      "  index  level3\n",
      "0  A4.1     178\n",
      "1  A5.1     178\n",
      "2  A3.1     175\n",
      "3  A4.7     174\n",
      "4  A3.7      91\n",
      "5  A5.2      85\n",
      "6  A5.4      34\n"
     ]
    }
   ],
   "source": [
    "folder_path = \"/home/diegues/Desktop/ProcessedImages/\"\n",
    "data = pd.read_csv(folder_path + \"sampled_data.csv\")\n",
    "#classes = open(folder_path + \"classes.txt\", \"r\").readlines()\n",
    "\n",
    "filenames = data['filename']\n",
    "targets = data['level3']\n",
    "\n",
    "# one-hot encoding\n",
    "targets_ohe = pd.get_dummies(data['level3'])\n",
    "#species_ohe = pd.get_dummies(data['species'])\n",
    "\n",
    "# dealing with NaNs\n",
    "data = data.drop(['roll', 'pitch', 'level1', 'level2', 'level3', 'level4', \n",
    "                  'level5', 'level6', 'AphiaID', 'EunisName', 'EunisCode', \n",
    "                  'date', 'timestamp', 'species'],\n",
    "                 axis = 1)\n",
    "\n",
    "X = data.groupby('filename').max()\n",
    "Y_ohe = pd.concat([filenames,targets_ohe], axis = 1).groupby('filename').max()\n",
    "Y_cat = pd.concat([filenames,targets], axis = 1).groupby('filename').max()\n",
    "\n",
    "print(pd.value_counts(Y_cat.level3).to_frame().reset_index())\n",
    "\n",
    "# tts\n",
    "train_X_ohe, test_X_ohe, train_Y_ohe, test_Y_ohe = train_test_split(X, Y_ohe, test_size = 0.3)\n",
    "train_X_cat, test_X_cat, train_Y_cat, test_Y_cat = train_test_split(X, Y_cat, test_size = 0.3)"
   ]
  },
  {
   "cell_type": "markdown",
   "metadata": {},
   "source": [
    "## Fitting and Training the Models\n",
    "\n",
    "### Random Forest"
   ]
  },
  {
   "cell_type": "code",
   "execution_count": 23,
   "metadata": {},
   "outputs": [
    {
     "name": "stdout",
     "output_type": "stream",
     "text": [
      "RF:\t 0.9418181818181818\n",
      "Image: 113610_cam_survey_1_frame355.jpg \t\tPrediction: A3.7 \tTarget: A3.1\n",
      "Image: 132143_forcadinho-np3_frame1129.jpg \t\tPrediction: A3.1 \tTarget: A5.1\n",
      "Image: 105317_cam-np3_frame979.jpg \t\tPrediction: A4.7 \tTarget: A4.1\n",
      "Image: 132143_forcadinho-np3_frame2620.jpg \t\tPrediction: A3.1 \tTarget: A4.1\n",
      "Image: 132143_forcadinho-np3_frame2635.jpg \t\tPrediction: A3.1 \tTarget: A4.1\n",
      "Image: 125355_forcadinho-np3_frame255.jpg \t\tPrediction: A4.1 \tTarget: A5.1\n",
      "Image: 125355_forcadinho-np3_frame1724.jpg \t\tPrediction: A4.1 \tTarget: A5.1\n",
      "Image: 125355_forcadinho-np3_frame1342.jpg \t\tPrediction: A4.1 \tTarget: A5.2\n",
      "Image: 132143_forcadinho-np3_frame4075.jpg \t\tPrediction: A3.1 \tTarget: A3.7\n",
      "Image: 125355_forcadinho-np3_frame1344.jpg \t\tPrediction: A3.1 \tTarget: A5.2\n",
      "Image: 125355_forcadinho-np3_frame1354.jpg \t\tPrediction: A4.1 \tTarget: A5.2\n",
      "Image: 132143_forcadinho-np3_frame1394.jpg \t\tPrediction: A3.1 \tTarget: A5.1\n",
      "Image: 132143_forcadinho-np3_frame4068.jpg \t\tPrediction: A3.1 \tTarget: A3.7\n",
      "           0      1\n",
      "0   latitude  0.266\n",
      "1  longitude  0.342\n",
      "2    entropy  0.053\n",
      "3      depth  0.339\n"
     ]
    }
   ],
   "source": [
    "rf = RandomForestClassifier(n_estimators = 1000)\n",
    "rf.fit(train_X_ohe, train_Y_ohe)\n",
    "predictions_rf = rf.predict(test_X_ohe)\n",
    "predictions_rf = pd.DataFrame(predictions_rf)\n",
    "predictions_rf.columns = test_Y_ohe.columns.values\n",
    "print('RF:\\t',rf.score(test_X_ohe, test_Y_ohe))\n",
    "failed_rf = printWrongPreds(predictions_rf, test_Y_ohe)\n",
    "print(pd.DataFrame([(name,round(value,3)) for name,value in zip(X.columns,rf.feature_importances_)]))"
   ]
  },
  {
   "cell_type": "markdown",
   "metadata": {},
   "source": [
    "### Support Vector Machines"
   ]
  },
  {
   "cell_type": "code",
   "execution_count": 24,
   "metadata": {},
   "outputs": [
    {
     "name": "stdout",
     "output_type": "stream",
     "text": [
      "SVM:\t 0.5745454545454546\n"
     ]
    }
   ],
   "source": [
    "svm = svm.SVC()\n",
    "svm.fit(train_X_cat, train_Y_cat.values.ravel())\n",
    "preds_svm = svm.predict(test_X_cat)\n",
    "print('SVM:\\t',accuracy_score(test_Y_cat, preds_svm))\n",
    "#failed_svm = printWrongPreds(preds_svm, test_Y_cat) # too many wrong predictions to print it"
   ]
  },
  {
   "cell_type": "markdown",
   "metadata": {},
   "source": [
    "This result confirms our suspicions: SVM will not have good results in this problem unless we add more data and variability in the classifications."
   ]
  },
  {
   "cell_type": "markdown",
   "metadata": {},
   "source": [
    "### Neural Networks\n",
    "#### sklearn"
   ]
  },
  {
   "cell_type": "code",
   "execution_count": 25,
   "metadata": {},
   "outputs": [
    {
     "name": "stdout",
     "output_type": "stream",
     "text": [
      "sklearn NN:\t 0.8945454545454545\n",
      "Image: 125355_forcadinho-np3_frame1343.jpg \t\tPrediction: A5.1 \tTarget: A5.2\n",
      "Image: 113610_cam_survey_1_frame94.jpg \t\tPrediction: A3.7 \tTarget: A3.1\n",
      "Image: 113610_cam_survey_1_frame967.jpg \t\tPrediction: A3.7 \tTarget: A3.1\n",
      "Image: 113610_cam_survey_1_frame1482.jpg \t\tPrediction: A3.7 \tTarget: A3.1\n",
      "Image: 125355_forcadinho-np3_frame1344.jpg \t\tPrediction: A5.1 \tTarget: A5.2\n",
      "Image: 113610_cam_survey_1_frame1486.jpg \t\tPrediction: A3.7 \tTarget: A3.1\n",
      "Image: 125355_forcadinho-np3_frame1551.jpg \t\tPrediction: A5.1 \tTarget: A4.1\n",
      "Image: 125355_forcadinho-np3_frame1106.jpg \t\tPrediction: A3.1 \tTarget: A4.1\n",
      "Image: 132143_forcadinho-np3_frame2809.jpg \t\tPrediction: A3.7 \tTarget: A4.1\n",
      "Image: 105317_cam-np3_frame970.jpg \t\tPrediction: A4.1 \tTarget: A4.7\n",
      "Image: 113610_cam_survey_1_frame13.jpg \t\tPrediction: A3.7 \tTarget: A3.1\n",
      "Image: 132143_forcadinho-np3_frame1394.jpg \t\tPrediction: A3.1 \tTarget: A5.1\n",
      "Image: 132143_forcadinho-np3_frame2905.jpg \t\tPrediction: A3.7 \tTarget: A3.1\n",
      "Image: 113610_cam_survey_1_frame380.jpg \t\tPrediction: A3.7 \tTarget: A3.1\n",
      "Image: 113610_cam_survey_1_frame330.jpg \t\tPrediction: A3.7 \tTarget: A3.1\n",
      "Image: 132143_forcadinho-np3_frame1304.jpg \t\tPrediction: A3.7 \tTarget: A3.1\n",
      "Image: 105317_cam-np3_frame298.jpg \t\tPrediction: A4.7 \tTarget: A4.1\n",
      "Image: 125355_forcadinho-np3_frame1056.jpg \t\tPrediction: A3.1 \tTarget: A4.1\n",
      "Image: 132143_forcadinho-np3_frame3795.jpg \t\tPrediction: A3.1 \tTarget: A4.1\n",
      "Image: 132143_forcadinho-np3_frame3905.jpg \t\tPrediction: A4.7 \tTarget: A5.2\n",
      "Image: 113610_cam_survey_1_frame562.jpg \t\tPrediction: A3.7 \tTarget: A3.1\n",
      "Image: 132143_forcadinho-np3_frame4304.jpg \t\tPrediction: A5.2 \tTarget: A4.1\n",
      "Image: 125355_forcadinho-np3_frame1188.jpg \t\tPrediction: A4.1 \tTarget: A3.1\n",
      "Image: 113610_cam_survey_1_frame1488.jpg \t\tPrediction: A3.7 \tTarget: A3.1\n",
      "Image: 132143_forcadinho-np3_frame1753.jpg \t\tPrediction: A5.4 \tTarget: A5.1\n",
      "Image: 113610_cam_survey_1_frame565.jpg \t\tPrediction: A3.7 \tTarget: A3.1\n",
      "Image: 105317_cam-np3_frame977.jpg \t\tPrediction: A4.1 \tTarget: A4.7\n",
      "Image: 105317_cam-np3_frame789.jpg \t\tPrediction: A5.2 \tTarget: A4.1\n",
      "Image: 105317_cam-np3_frame1478.jpg \t\tPrediction: A4.7 \tTarget: A4.1\n"
     ]
    }
   ],
   "source": [
    "scaler = StandardScaler()\n",
    "scaler.fit(train_X_cat)\n",
    "\n",
    "train_X_scaled = scaler.transform(train_X_cat)\n",
    "test_X_scaled = scaler.transform(test_X_cat)\n",
    "\n",
    "mlp = MLPClassifier(hidden_layer_sizes=(4096,4096,1000))\n",
    "mlp.fit(train_X_scaled,train_Y_cat.values.ravel())\n",
    "\n",
    "predictions_nn = mlp.predict(test_X_scaled)\n",
    "print('sklearn NN:\\t',accuracy_score(test_Y_cat,predictions_nn))\n",
    "failed_nn = printWrongPreds(predictions_nn, test_Y_cat)\n"
   ]
  },
  {
   "cell_type": "markdown",
   "metadata": {},
   "source": [
    "#### Keras"
   ]
  },
  {
   "cell_type": "code",
   "execution_count": null,
   "metadata": {},
   "outputs": [
    {
     "name": "stdout",
     "output_type": "stream",
     "text": [
      "Train on 640 samples, validate on 275 samples\n",
      "Epoch 1/20\n",
      "640/640 [==============================] - 8s 12ms/step - loss: 0.4501 - acc: 0.8375 - val_loss: 0.4122 - val_acc: 0.8571\n",
      "Epoch 2/20\n",
      "416/640 [==================>...........] - ETA: 2s - loss: 0.4140 - acc: 0.8571"
     ]
    }
   ],
   "source": [
    "scaler_keras = StandardScaler()\n",
    "scaler_keras.fit(train_X_ohe)\n",
    "\n",
    "X_train_scaled = scaler_keras.transform(train_X_ohe)\n",
    "X_test_scaled = scaler_keras.transform(test_X_ohe)\n",
    "\n",
    "model = Sequential()\n",
    "model.add(Dense(4096, activation='relu', input_dim=4))\n",
    "#model.add(Dropout(0.2))\n",
    "model.add(Dense(4096, activation='relu'))\n",
    "#model.add(Dropout(0.5))\n",
    "model.add(Dense(1000, activation='relu'))\n",
    "#model.add(Dropout(0.8))\n",
    "model.add(Dense(7, activation='sigmoid')) \n",
    "\n",
    "model.compile(loss='binary_crossentropy',\n",
    "              optimizer='adam',\n",
    "              metrics=['accuracy'])\n",
    "\n",
    "model.fit(train_X_scaled, train_Y_ohe, epochs=20,validation_data=(X_test_scaled,test_Y_ohe))\n",
    "predskeras_nn = pd.DataFrame(model.predict(X_test_scaled))\n",
    "predskeras_nn.columns = test_Y_ohe.columns.values\n",
    "score = model.evaluate(X_test_scaled, test_Y_ohe)\n",
    "\n",
    "print('Keras NN:\\t', score)\n",
    "failed_keras = printWrongPreds(predskeras_nn,test_Y_ohe)"
   ]
  },
  {
   "cell_type": "code",
   "execution_count": 22,
   "metadata": {},
   "outputs": [
    {
     "data": {
      "text/plain": [
       "\"\\nclasses = np.sort(np.array(Y_cat['EunisCode'].unique()))\\nclass_map = dict((k,v) for (k, v) in zip(classes, [np.float32(i) for i in range(0,len(classes))]))\\npath_to_imgs = '/home/diegues/Desktop/ProcessedImages/LabeledData/'\\n\\nX_train = []\\nX_test = []\\ny_train = []\\ny_test = []\\ni=0\\nfor file in os.listdir(path_to_imgs):\\n    i = i + 1\\n    print(i)\\n    img = cv2.resize(cv2.imread(path_to_imgs + file, 0),(200,150))\\n    xarray_img = np.squeeze(np.array(img).astype(np.float32))\\n    m, v = cv2.PCACompute(xarray_img, mean = None)\\n    array = np.array(v)\\n    flat_array = array.ravel()\\n    if file in train_X_cat.index:\\n        X_train.append(flat_array)\\n        y_train.append(int(class_map[train_Y_cat['EunisCode'].loc[file]]))\\n        \\n    elif file in test_X_cat.index:\\n        X_test.append(flat_array)\\n        y_test.append(int(class_map[test_Y_cat['EunisCode'].loc[file]]))\\n\\nX_train = np.float32(X_train)\\nX_test = np.float32(X_test)\\ny_train = np.float32(y_train)\\ny_test = np.float32(y_test)\\n\\nimg_svm = cv2.ml.SVM_create()\\nimg_svm.setKernel(cv2.ml.SVM_LINEAR)\\nimg_svm.setType(cv2.ml.SVM_C_SVC)\\nimg_svm.setC(2.67)\\nimg_svm.setGamma(5.383)\\nimg_svm.train(X_train, cv2.ml.ROW_SAMPLE, y_train)\\n        \\nresult = img_svm.predict(X_test)[1]\\n\""
      ]
     },
     "execution_count": 22,
     "metadata": {},
     "output_type": "execute_result"
    }
   ],
   "source": [
    "# Image Classification\n",
    "\n",
    "## Support Vector Machines\n",
    "\"\"\"\n",
    "classes = np.sort(np.array(Y_cat['EunisCode'].unique()))\n",
    "class_map = dict((k,v) for (k, v) in zip(classes, [np.float32(i) for i in range(0,len(classes))]))\n",
    "path_to_imgs = '/home/diegues/Desktop/ProcessedImages/LabeledData/'\n",
    "\n",
    "X_train = []\n",
    "X_test = []\n",
    "y_train = []\n",
    "y_test = []\n",
    "i=0\n",
    "for file in os.listdir(path_to_imgs):\n",
    "    i = i + 1\n",
    "    print(i)\n",
    "    img = cv2.resize(cv2.imread(path_to_imgs + file, 0),(200,150))\n",
    "    xarray_img = np.squeeze(np.array(img).astype(np.float32))\n",
    "    m, v = cv2.PCACompute(xarray_img, mean = None)\n",
    "    array = np.array(v)\n",
    "    flat_array = array.ravel()\n",
    "    if file in train_X_cat.index:\n",
    "        X_train.append(flat_array)\n",
    "        y_train.append(int(class_map[train_Y_cat['EunisCode'].loc[file]]))\n",
    "        \n",
    "    elif file in test_X_cat.index:\n",
    "        X_test.append(flat_array)\n",
    "        y_test.append(int(class_map[test_Y_cat['EunisCode'].loc[file]]))\n",
    "\n",
    "X_train = np.float32(X_train)\n",
    "X_test = np.float32(X_test)\n",
    "y_train = np.float32(y_train)\n",
    "y_test = np.float32(y_test)\n",
    "\n",
    "img_svm = cv2.ml.SVM_create()\n",
    "img_svm.setKernel(cv2.ml.SVM_LINEAR)\n",
    "img_svm.setType(cv2.ml.SVM_C_SVC)\n",
    "img_svm.setC(2.67)\n",
    "img_svm.setGamma(5.383)\n",
    "img_svm.train(X_train, cv2.ml.ROW_SAMPLE, y_train)\n",
    "        \n",
    "result = img_svm.predict(X_test)[1]\n",
    "\"\"\""
   ]
  },
  {
   "cell_type": "markdown",
   "metadata": {},
   "source": [
    "### Convolutional Neural Networks - adaptation of the VGG\n",
    "\n",
    "#### Preping the images"
   ]
  },
  {
   "cell_type": "code",
   "execution_count": 6,
   "metadata": {},
   "outputs": [
    {
     "name": "stdout",
     "output_type": "stream",
     "text": [
      "Found 640 images belonging to 7 classes.\n",
      "Found 275 images belonging to 7 classes.\n"
     ]
    }
   ],
   "source": [
    "images_path = '/home/diegues/Desktop/ProcessedImages/SampledData/'\n",
    "train_dir, val_dir = createDirectoryEnvironment(train_X_ohe, train_Y_ohe, test_X_ohe, test_Y_ohe, images_path)\n",
    "\n",
    "train_datagen = ImageDataGenerator(\n",
    "        rescale=1./255,\n",
    "        shear_range=0.2,\n",
    "        zoom_range=0.2,\n",
    "        horizontal_flip=True)\n",
    "\n",
    "test_datagen = ImageDataGenerator(rescale=1./255)\n",
    "\n",
    "train_generator = train_datagen.flow_from_directory(\n",
    "        images_path + 'train',  \n",
    "        target_size=(224, 224), \n",
    "        batch_size=32,\n",
    "        class_mode='categorical') \n",
    "\n",
    "validation_generator = test_datagen.flow_from_directory(\n",
    "        images_path + 'validation',\n",
    "        target_size=(224, 224),\n",
    "        batch_size=32,\n",
    "        class_mode='categorical')\n"
   ]
  },
  {
   "cell_type": "markdown",
   "metadata": {},
   "source": [
    "#### VGG Architecture \n"
   ]
  },
  {
   "cell_type": "code",
   "execution_count": 7,
   "metadata": {},
   "outputs": [
    {
     "name": "stdout",
     "output_type": "stream",
     "text": [
      "_________________________________________________________________\n",
      "Layer (type)                 Output Shape              Param #   \n",
      "=================================================================\n",
      "conv2d_1 (Conv2D)            (None, 224, 224, 64)      1792      \n",
      "_________________________________________________________________\n",
      "conv2d_2 (Conv2D)            (None, 224, 224, 64)      36928     \n",
      "_________________________________________________________________\n",
      "max_pooling2d_1 (MaxPooling2 (None, 112, 112, 64)      0         \n",
      "_________________________________________________________________\n",
      "dropout_1 (Dropout)          (None, 112, 112, 64)      0         \n",
      "_________________________________________________________________\n",
      "conv2d_3 (Conv2D)            (None, 112, 112, 128)     73856     \n",
      "_________________________________________________________________\n",
      "conv2d_4 (Conv2D)            (None, 112, 112, 128)     147584    \n",
      "_________________________________________________________________\n",
      "max_pooling2d_2 (MaxPooling2 (None, 56, 56, 128)       0         \n",
      "_________________________________________________________________\n",
      "dropout_2 (Dropout)          (None, 56, 56, 128)       0         \n",
      "_________________________________________________________________\n",
      "conv2d_5 (Conv2D)            (None, 56, 56, 256)       295168    \n",
      "_________________________________________________________________\n",
      "conv2d_6 (Conv2D)            (None, 56, 56, 256)       590080    \n",
      "_________________________________________________________________\n",
      "max_pooling2d_3 (MaxPooling2 (None, 28, 28, 256)       0         \n",
      "_________________________________________________________________\n",
      "dropout_3 (Dropout)          (None, 28, 28, 256)       0         \n",
      "_________________________________________________________________\n",
      "conv2d_7 (Conv2D)            (None, 28, 28, 512)       1180160   \n",
      "_________________________________________________________________\n",
      "conv2d_8 (Conv2D)            (None, 28, 28, 512)       2359808   \n",
      "_________________________________________________________________\n",
      "max_pooling2d_4 (MaxPooling2 (None, 14, 14, 512)       0         \n",
      "_________________________________________________________________\n",
      "dropout_4 (Dropout)          (None, 14, 14, 512)       0         \n",
      "_________________________________________________________________\n",
      "conv2d_9 (Conv2D)            (None, 14, 14, 512)       2359808   \n",
      "_________________________________________________________________\n",
      "conv2d_10 (Conv2D)           (None, 14, 14, 512)       2359808   \n",
      "_________________________________________________________________\n",
      "max_pooling2d_5 (MaxPooling2 (None, 7, 7, 512)         0         \n",
      "_________________________________________________________________\n",
      "dropout_5 (Dropout)          (None, 7, 7, 512)         0         \n",
      "_________________________________________________________________\n",
      "flatten_1 (Flatten)          (None, 25088)             0         \n",
      "_________________________________________________________________\n",
      "dense_1 (Dense)              (None, 1024)              25691136  \n",
      "_________________________________________________________________\n",
      "dropout_6 (Dropout)          (None, 1024)              0         \n",
      "_________________________________________________________________\n",
      "dense_2 (Dense)              (None, 1024)              1049600   \n",
      "_________________________________________________________________\n",
      "dropout_7 (Dropout)          (None, 1024)              0         \n",
      "_________________________________________________________________\n",
      "dense_3 (Dense)              (None, 100)               102500    \n",
      "_________________________________________________________________\n",
      "dropout_8 (Dropout)          (None, 100)               0         \n",
      "_________________________________________________________________\n",
      "dense_4 (Dense)              (None, 7)                 707       \n",
      "=================================================================\n",
      "Total params: 36,248,935\n",
      "Trainable params: 36,248,935\n",
      "Non-trainable params: 0\n",
      "_________________________________________________________________\n"
     ]
    }
   ],
   "source": [
    "vgg16 = Sequential()\n",
    "\n",
    "vgg16.add(Conv2D(64,(3,3),activation='relu', input_shape=(224,224,3), padding='same'))\n",
    "vgg16.add(Conv2D(64,(3,3),activation='relu', padding='same'))\n",
    "vgg16.add(MaxPooling2D((2,2), (2,2)))\n",
    "vgg16.add(Dropout(.25))\n",
    "\n",
    "vgg16.add(Conv2D(128,(3,3),activation='relu', padding='same'))\n",
    "vgg16.add(Conv2D(128,(3,3),activation='relu', padding='same'))\n",
    "vgg16.add(MaxPooling2D((2,2), (2,2)))\n",
    "vgg16.add(Dropout(.5))\n",
    "\n",
    "vgg16.add(Conv2D(256,(3,3),activation='relu', padding='same'))\n",
    "vgg16.add(Conv2D(256,(3,3),activation='relu', padding='same'))\n",
    "#vgg16.add(Conv2D(256,(3,3),activation='relu', padding='same'))\n",
    "vgg16.add(MaxPooling2D((2,2), (2,2)))\n",
    "vgg16.add(Dropout(.5))\n",
    "\n",
    "vgg16.add(Conv2D(512,(3,3),activation='relu', padding='same'))\n",
    "vgg16.add(Conv2D(512,(3,3),activation='relu', padding='same'))\n",
    "#vgg16.add(Conv2D(512,(3,3),activation='relu', padding='same'))\n",
    "vgg16.add(MaxPooling2D((2,2), (2,2)))\n",
    "vgg16.add(Dropout(.5))\n",
    "\n",
    "vgg16.add(Conv2D(512,(3,3),activation='relu', padding='same'))\n",
    "vgg16.add(Conv2D(512,(3,3),activation='relu', padding='same'))\n",
    "#vgg16.add(Conv2D(512,(3,3),activation='relu', padding='same'))\n",
    "vgg16.add(MaxPooling2D((2,2), (2,2)))\n",
    "vgg16.add(Dropout(.5))\n",
    "\n",
    "vgg16.add(Flatten())\n",
    "vgg16.add(Dense(1024, activation='relu'))\n",
    "vgg16.add(Dropout(0.25))\n",
    "vgg16.add(Dense(1024, activation='relu'))\n",
    "vgg16.add(Dropout(0.5))\n",
    "vgg16.add(Dense(100, activation='relu'))\n",
    "vgg16.add(Dropout(0.75))\n",
    "vgg16.add(Dense(7, activation='sigmoid'))\n",
    "\n",
    "vgg16.compile(loss='binary_crossentropy',\n",
    "              optimizer='adam',\n",
    "              metrics=['accuracy'])\n",
    "vgg16.summary()"
   ]
  },
  {
   "cell_type": "markdown",
   "metadata": {},
   "source": [
    "#### Fitting the model"
   ]
  },
  {
   "cell_type": "code",
   "execution_count": null,
   "metadata": {
    "scrolled": true
   },
   "outputs": [
    {
     "name": "stdout",
     "output_type": "stream",
     "text": [
      "Epoch 1/50\n",
      "20/20 [==============================] - 1415s 71s/step - loss: 4.4476 - acc: 0.6989 - val_loss: 5.7483 - val_acc: 0.6406\n",
      "Epoch 2/50\n",
      "20/20 [==============================] - 1412s 71s/step - loss: 4.6182 - acc: 0.7116 - val_loss: 5.7483 - val_acc: 0.6406\n",
      "Epoch 3/50\n",
      "20/20 [==============================] - 1408s 70s/step - loss: 4.4895 - acc: 0.7196 - val_loss: 5.7483 - val_acc: 0.6406\n",
      "Epoch 4/50\n",
      "20/20 [==============================] - 1405s 70s/step - loss: 4.4393 - acc: 0.7228 - val_loss: 5.7483 - val_acc: 0.6406\n",
      "Epoch 5/50\n",
      "20/20 [==============================] - 1409s 70s/step - loss: 4.4647 - acc: 0.7212 - val_loss: 5.7483 - val_acc: 0.6406\n",
      "Epoch 6/50\n",
      "20/20 [==============================] - 1412s 71s/step - loss: 4.5718 - acc: 0.7145 - val_loss: 5.7483 - val_acc: 0.6406\n",
      "Epoch 7/50\n",
      "20/20 [==============================] - 1414s 71s/step - loss: 4.4645 - acc: 0.7212 - val_loss: 5.7483 - val_acc: 0.6406\n",
      "Epoch 8/50\n",
      " 1/20 [>.............................] - ETA: 20:21 - loss: 4.3618 - acc: 0.7277"
     ]
    }
   ],
   "source": [
    "vgg16.fit_generator(\n",
    "        train_generator,\n",
    "        steps_per_epoch=len(train_X_ohe) // 32,\n",
    "        epochs=50,\n",
    "        validation_data=validation_generator,\n",
    "        validation_steps=len(test_X_ohe) // 32)\n",
    "vgg16.save_weights('vgg16.h5')"
   ]
  },
  {
   "cell_type": "code",
   "execution_count": 19,
   "metadata": {},
   "outputs": [
    {
     "name": "stdout",
     "output_type": "stream",
     "text": [
      "Found 640 images belonging to 7 classes.\n",
      "Found 275 images belonging to 7 classes.\n"
     ]
    }
   ],
   "source": [
    "images_path = '/home/diegues/Desktop/ProcessedImages/SampledData/'\n",
    "\n",
    "train_datagen = ImageDataGenerator(\n",
    "        rescale=1./255,\n",
    "        shear_range=0.2,\n",
    "        zoom_range=0.2,\n",
    "        horizontal_flip=True)\n",
    "\n",
    "test_datagen = ImageDataGenerator(rescale=1./255)\n",
    "\n",
    "train_generator = train_datagen.flow_from_directory(\n",
    "        images_path + 'train',  \n",
    "        target_size=(512, 512), \n",
    "        batch_size=32,\n",
    "        class_mode='categorical') \n",
    "\n",
    "validation_generator = test_datagen.flow_from_directory(\n",
    "        images_path + 'validation',\n",
    "        target_size=(512, 512),\n",
    "        batch_size=32,\n",
    "        class_mode='categorical')"
   ]
  },
  {
   "cell_type": "code",
   "execution_count": 260,
   "metadata": {},
   "outputs": [
    {
     "name": "stdout",
     "output_type": "stream",
     "text": [
      "_________________________________________________________________\n",
      "Layer (type)                 Output Shape              Param #   \n",
      "=================================================================\n",
      "conv2d_11 (Conv2D)           (None, 512, 512, 32)      896       \n",
      "_________________________________________________________________\n",
      "max_pooling2d_6 (MaxPooling2 (None, 255, 255, 32)      0         \n",
      "_________________________________________________________________\n",
      "dropout_21 (Dropout)         (None, 255, 255, 32)      0         \n",
      "_________________________________________________________________\n",
      "conv2d_12 (Conv2D)           (None, 255, 255, 64)      18496     \n",
      "_________________________________________________________________\n",
      "max_pooling2d_7 (MaxPooling2 (None, 127, 127, 64)      0         \n",
      "_________________________________________________________________\n",
      "dropout_22 (Dropout)         (None, 127, 127, 64)      0         \n",
      "_________________________________________________________________\n",
      "conv2d_13 (Conv2D)           (None, 127, 127, 64)      36928     \n",
      "_________________________________________________________________\n",
      "conv2d_14 (Conv2D)           (None, 127, 127, 128)     73856     \n",
      "_________________________________________________________________\n",
      "conv2d_15 (Conv2D)           (None, 127, 127, 128)     147584    \n",
      "_________________________________________________________________\n",
      "max_pooling2d_8 (MaxPooling2 (None, 63, 63, 128)       0         \n",
      "_________________________________________________________________\n",
      "dropout_23 (Dropout)         (None, 63, 63, 128)       0         \n",
      "_________________________________________________________________\n",
      "conv2d_16 (Conv2D)           (None, 63, 63, 256)       295168    \n",
      "_________________________________________________________________\n",
      "conv2d_17 (Conv2D)           (None, 63, 63, 256)       590080    \n",
      "_________________________________________________________________\n",
      "max_pooling2d_9 (MaxPooling2 (None, 31, 31, 256)       0         \n",
      "_________________________________________________________________\n",
      "dropout_24 (Dropout)         (None, 31, 31, 256)       0         \n",
      "_________________________________________________________________\n",
      "conv2d_18 (Conv2D)           (None, 31, 31, 256)       590080    \n",
      "_________________________________________________________________\n",
      "conv2d_19 (Conv2D)           (None, 31, 31, 256)       590080    \n",
      "_________________________________________________________________\n",
      "max_pooling2d_10 (MaxPooling (None, 15, 15, 256)       0         \n",
      "_________________________________________________________________\n",
      "dropout_25 (Dropout)         (None, 15, 15, 256)       0         \n",
      "_________________________________________________________________\n",
      "conv2d_20 (Conv2D)           (None, 15, 15, 256)       590080    \n",
      "_________________________________________________________________\n",
      "conv2d_21 (Conv2D)           (None, 15, 15, 256)       590080    \n",
      "_________________________________________________________________\n",
      "max_pooling2d_11 (MaxPooling (None, 7, 7, 256)         0         \n",
      "_________________________________________________________________\n",
      "dropout_26 (Dropout)         (None, 7, 7, 256)         0         \n",
      "_________________________________________________________________\n",
      "flatten_2 (Flatten)          (None, 12544)             0         \n",
      "_________________________________________________________________\n",
      "dense_21 (Dense)             (None, 256)               3211520   \n",
      "_________________________________________________________________\n",
      "dense_22 (Dense)             (None, 64)                16448     \n",
      "_________________________________________________________________\n",
      "dense_23 (Dense)             (None, 7)                 455       \n",
      "=================================================================\n",
      "Total params: 6,751,751\n",
      "Trainable params: 6,751,751\n",
      "Non-trainable params: 0\n",
      "_________________________________________________________________\n"
     ]
    }
   ],
   "source": [
    "# DeepSense AI NOAA competition approach\n",
    "\n",
    "dsaiNOAA = Sequential()\n",
    "\n",
    "dsaiNOAA.add(Conv2D(32,(3,3),activation='relu', input_shape=(512,512,3), padding='same'))\n",
    "dsaiNOAA.add(MaxPooling2D(pool_size=(3,3), strides=(2,2)))\n",
    "dsaiNOAA.add(Dropout(.25))\n",
    "\n",
    "dsaiNOAA.add(Conv2D(64,(3,3),activation='relu', padding='same'))\n",
    "dsaiNOAA.add(MaxPooling2D(pool_size=(3,3), strides=(2,2)))\n",
    "dsaiNOAA.add(Dropout(.25))\n",
    "\n",
    "dsaiNOAA.add(Conv2D(64,(3,3),activation='relu', padding='same'))\n",
    "dsaiNOAA.add(Conv2D(128,(3,3),activation='relu', padding='same'))\n",
    "dsaiNOAA.add(Conv2D(128,(3,3),activation='relu', padding='same'))\n",
    "dsaiNOAA.add(MaxPooling2D(pool_size=(3,3), strides=(2,2)))\n",
    "dsaiNOAA.add(Dropout(.25))\n",
    "\n",
    "dsaiNOAA.add(Conv2D(256,(3,3),activation='relu', padding='same'))\n",
    "dsaiNOAA.add(Conv2D(256,(3,3),activation='relu', padding='same'))\n",
    "dsaiNOAA.add(MaxPooling2D(pool_size=(3,3), strides=(2,2)))\n",
    "dsaiNOAA.add(Dropout(.25))\n",
    "\n",
    "dsaiNOAA.add(Conv2D(256,(3,3),activation='relu', padding='same'))\n",
    "dsaiNOAA.add(Conv2D(256,(3,3),activation='relu', padding='same'))\n",
    "dsaiNOAA.add(MaxPooling2D(pool_size=(3,3), strides=(2,2)))\n",
    "dsaiNOAA.add(Dropout(.5))\n",
    "\n",
    "dsaiNOAA.add(Conv2D(256,(3,3),activation='relu', padding='same'))\n",
    "dsaiNOAA.add(Conv2D(256,(3,3),activation='relu', padding='same'))\n",
    "dsaiNOAA.add(MaxPooling2D(pool_size=(3,3), strides=(2,2)))\n",
    "dsaiNOAA.add(Dropout(.5))\n",
    "\n",
    "dsaiNOAA.add(Flatten())\n",
    "dsaiNOAA.add(Dense(256, activation='relu'))\n",
    "dsaiNOAA.add(Dense(64, activation='relu'))\n",
    "dsaiNOAA.add(Dense(7, activation='sigmoid'))\n",
    "\n",
    "dsaiNOAA.compile(loss='binary_crossentropy',\n",
    "              optimizer='adam',\n",
    "              metrics=['accuracy'])\n",
    "dsaiNOAA.summary()"
   ]
  },
  {
   "cell_type": "code",
   "execution_count": null,
   "metadata": {},
   "outputs": [],
   "source": [
    "dsaiNOAA.fit_generator(\n",
    "        train_generator,\n",
    "        steps_per_epoch=len(train_X_ohe) // 32,\n",
    "        epochs=50,\n",
    "        validation_data=validation_generator,\n",
    "        validation_steps=len(test_X_ohe) // 32)\n",
    "dsaiNOAA.save_weights('dsaiNOAA.h5')"
   ]
  },
  {
   "cell_type": "markdown",
   "metadata": {},
   "source": [
    "## Predicting Unlabeled Data\n",
    "\n",
    "Getting the data from the folders"
   ]
  },
  {
   "cell_type": "code",
   "execution_count": 10,
   "metadata": {},
   "outputs": [
    {
     "name": "stdout",
     "output_type": "stream",
     "text": [
      "['104728_cam-np3', '105317_cam-np3', '113610_cam_survey_1', '125355_forcadinho-np3', '132143_forcadinho-np3']\n"
     ]
    }
   ],
   "source": [
    "folders = []\n",
    "for folder in [f for f in os.listdir(folder_path) if os.path.isdir(folder_path + f)]:\n",
    "    if folder[0] in '0123456789':\n",
    "        folders.append(folder)\n",
    "folders.sort()\n",
    "print(folders)  "
   ]
  },
  {
   "cell_type": "code",
   "execution_count": 21,
   "metadata": {},
   "outputs": [],
   "source": [
    "df0 = pd.DataFrame()\n",
    "df1 = pd.DataFrame()\n",
    "df2 = pd.DataFrame()\n",
    "df3 = pd.DataFrame()\n",
    "df4 = pd.DataFrame()\n",
    "\n",
    "i = 0\n",
    "\n",
    "for f in folders:\n",
    "    datafile = folder_path + f + \"/\" + f + \".csv\"\n",
    "    if not os.path.exists(datafile):\n",
    "        print(datafile + \"doesn't exist!\")\n",
    "        break\n",
    "    data = pd.read_csv(datafile)\n",
    "    depth = data.altitude + data.depth\n",
    "    data = data.drop(['altitude', 'depth'], axis = 1)\n",
    "    data['depth'] = depth\n",
    "    targetsfile = folder_path + f + \"/\" + f + \"-targets.csv\"\n",
    "    if not os.path.exists(targetsfile):\n",
    "        print(targetsfile + \"doesn't exist!\")\n",
    "        continue\n",
    "    targets = pd.read_csv(targetsfile,\n",
    "                          names=['filename', 'date', 'longitude', 'latitude', 'depth', 'EunisCode', 'EunisName', 'level1', 'level2', 'level3', 'level4', 'level5', 'level6', \n",
    "                                 'species', 'AphiaID'])[1:]\n",
    "    targets = targets.drop(['date', 'longitude', 'latitude', 'depth'], axis=1)\n",
    "    join_dfs = pd.merge(data, targets, on='filename', how='outer')\n",
    "    empty_targets = join_dfs[join_dfs['EunisCode'].isnull()]\n",
    "    if i == 0:\n",
    "        df0 = empty_targets\n",
    "        filenames = df0['filename']\n",
    "        df0 = df0.drop(['roll', 'pitch', 'level1', 'level2', 'level3', 'level4',\n",
    "          'level5', 'level6', 'AphiaID', 'EunisName', 'EunisCode', \n",
    "          'date', 'timestamp', 'species'], axis = 1)\n",
    "        df0 = df0.groupby('filename').max()\n",
    "        i += 1\n",
    "    elif i == 1:\n",
    "        df1 = empty_targets\n",
    "        filenames = df1['filename']\n",
    "        df1 = df1.drop(['roll', 'pitch', 'level1', 'level2', 'level3', 'level4',\n",
    "          'level5', 'level6', 'AphiaID', 'EunisName', 'EunisCode', \n",
    "          'date', 'timestamp', 'species'], axis = 1)\n",
    "        df1 = df1.groupby('filename').max()\n",
    "        i += 1\n",
    "    elif i == 2:\n",
    "        df2 = empty_targets\n",
    "        filenames = df2['filename']\n",
    "        df2 = df2.drop(['roll', 'pitch', 'level1', 'level2', 'level3', 'level4',\n",
    "          'level5', 'level6', 'AphiaID', 'EunisName', 'EunisCode', \n",
    "          'date', 'timestamp', 'species'], axis = 1)\n",
    "        df2 = df2.groupby('filename').max()\n",
    "        i += 1\n",
    "    elif i == 3:\n",
    "        df3 = empty_targets\n",
    "        filenames = df3['filename']\n",
    "        df3 = df3.drop(['roll', 'pitch', 'level1', 'level2', 'level3', 'level4',\n",
    "          'level5', 'level6', 'AphiaID', 'EunisName', 'EunisCode', \n",
    "          'date', 'timestamp', 'species'], axis = 1)\n",
    "        df3 = df3.groupby('filename').max()\n",
    "        i += 1\n",
    "    elif i == 4:\n",
    "        df4 = empty_targets\n",
    "        filenames = df4['filename']\n",
    "        df4 = df4.drop(['roll', 'pitch', 'level1', 'level2', 'level3', 'level4',\n",
    "          'level5', 'level6', 'AphiaID', 'EunisName', 'EunisCode', \n",
    "          'date', 'timestamp', 'species'], axis = 1)\n",
    "        df4 = df4.groupby('filename').max()\n",
    "        i += 1"
   ]
  },
  {
   "cell_type": "code",
   "execution_count": 289,
   "metadata": {},
   "outputs": [
    {
     "name": "stdout",
     "output_type": "stream",
     "text": [
      "Folder\t\t\t# samples\n",
      "\n",
      "104728_cam-np3: \t0\n",
      "105317_cam-np3: \t1612\n",
      "113610_cam_survey_1: \t4648\n",
      "125355_forcadinho-np3: \t2612\n",
      "132143_forcadinho-np3: \t9936\n",
      "                                     latitude  longitude    entropy  depth\n",
      "filename                                                                  \n",
      "132143_forcadinho-np3_frame10.jpg    41.53101   -8.80975  21.819391  12.21\n",
      "132143_forcadinho-np3_frame100.jpg   41.53096   -8.81002  21.923841  12.83\n",
      "132143_forcadinho-np3_frame101.jpg   41.53096   -8.81002  21.922641  12.83\n",
      "132143_forcadinho-np3_frame102.jpg   41.53096   -8.81002  21.913001  12.83\n",
      "132143_forcadinho-np3_frame1024.jpg  41.53055   -8.81172  21.902020  17.22\n"
     ]
    }
   ],
   "source": [
    "print('Folder\\t\\t\\t# samples\\n')\n",
    "print(folders[0] + ': \\t' + str(df0.size))\n",
    "print(folders[1] + ': \\t' + str(df1.size))\n",
    "print(folders[2] + ': \\t' + str(df2.size))\n",
    "print(folders[3] + ': \\t' + str(df3.size))\n",
    "print(folders[4] + ': \\t' + str(df4.size))\n",
    "print(df4.head())\n"
   ]
  },
  {
   "cell_type": "code",
   "execution_count": 35,
   "metadata": {},
   "outputs": [
    {
     "name": "stdout",
     "output_type": "stream",
     "text": [
      "2493\n"
     ]
    },
    {
     "data": {
      "text/plain": [
       "2484"
      ]
     },
     "execution_count": 35,
     "metadata": {},
     "output_type": "execute_result"
    }
   ],
   "source": [
    "df4 = df4.dropna()"
   ]
  },
  {
   "cell_type": "markdown",
   "metadata": {},
   "source": [
    "## Predicting\n",
    "### Random Forest "
   ]
  },
  {
   "cell_type": "code",
   "execution_count": 121,
   "metadata": {},
   "outputs": [],
   "source": [
    "df1_rf_preds = rf.predict(df1)\n",
    "df2_rf_preds = rf.predict(df2)\n",
    "df3_rf_preds = rf.predict(df3)\n",
    "df4_rf_preds = rf.predict(df4)"
   ]
  },
  {
   "cell_type": "code",
   "execution_count": 122,
   "metadata": {},
   "outputs": [],
   "source": [
    "df1_rf_preds = pd.DataFrame(df1_rf_preds).round().set_index(df1.index)\n",
    "df1_rf_preds.columns = test_Y_ohe.columns\n",
    "df1_rf_preds['level3'] = df1_rf_preds.idxmax(axis=1)\n",
    "\n",
    "df2_rf_preds = pd.DataFrame(df2_rf_preds).round().set_index(df2.index)\n",
    "df2_rf_preds.columns = test_Y_ohe.columns.values\n",
    "df2_rf_preds['level3'] = df2_rf_preds.idxmax(axis=1)\n",
    "\n",
    "df3_rf_preds = pd.DataFrame(df3_rf_preds).round().set_index(df3.index)\n",
    "df3_rf_preds.columns = test_Y_ohe.columns.values\n",
    "df3_rf_preds['level3'] = df3_rf_preds.idxmax(axis=1)\n",
    "\n",
    "df4_rf_preds = pd.DataFrame(df4_rf_preds).round().set_index(df4.index)\n",
    "df4_rf_preds.columns = test_Y_ohe.columns.values\n",
    "df4_rf_preds['level3'] = df4_rf_preds.idxmax(axis=1)"
   ]
  },
  {
   "cell_type": "markdown",
   "metadata": {},
   "source": [
    "### sklearn NeuralNet"
   ]
  },
  {
   "cell_type": "code",
   "execution_count": 37,
   "metadata": {},
   "outputs": [],
   "source": [
    "df1_scaled = scaler.transform(df1)\n",
    "df2_scaled = scaler.transform(df2)\n",
    "df3_scaled = scaler.transform(df3)\n",
    "df4_scaled = scaler.transform(df4)\n",
    "\n",
    "df1_nn_preds = mlp.predict(df1_scaled)\n",
    "df2_nn_preds = mlp.predict(df2_scaled)\n",
    "df3_nn_preds = mlp.predict(df3_scaled)\n",
    "df4_nn_preds = mlp.predict(df4_scaled)"
   ]
  },
  {
   "cell_type": "code",
   "execution_count": 91,
   "metadata": {},
   "outputs": [],
   "source": [
    "df1_nn_preds = pd.DataFrame(df1_nn_preds).set_index(df1.index)\n",
    "df1_nn_preds.columns = ['level3']\n",
    "\n",
    "df2_nn_preds = pd.DataFrame(df2_nn_preds).set_index(df2.index)\n",
    "df2_nn_preds.columns = ['level3']\n",
    "\n",
    "df3_nn_preds = pd.DataFrame(df3_nn_preds).set_index(df3.index)\n",
    "df3_nn_preds.columns = ['level3']\n",
    "\n",
    "df4_nn_preds = pd.DataFrame(df4_nn_preds).set_index(df4.index)\n",
    "df4_nn_preds.columns = ['level3']"
   ]
  },
  {
   "cell_type": "markdown",
   "metadata": {},
   "source": [
    "### Keras NeuralNet"
   ]
  },
  {
   "cell_type": "code",
   "execution_count": 133,
   "metadata": {},
   "outputs": [],
   "source": [
    "df1_scaled_keras = scaler_keras.transform(df1)\n",
    "df2_scaled_keras = scaler_keras.transform(df2)\n",
    "df3_scaled_keras = scaler_keras.transform(df3)\n",
    "df4_scaled_keras = scaler_keras.transform(df4)\n",
    "\n",
    "df1_keras_preds = model.predict(df1_scaled_keras)\n",
    "df2_keras_preds = model.predict(df2_scaled_keras)\n",
    "df3_keras_preds = model.predict(df3_scaled_keras)\n",
    "df4_keras_preds = model.predict(df4_scaled_keras)"
   ]
  },
  {
   "cell_type": "code",
   "execution_count": 134,
   "metadata": {},
   "outputs": [
    {
     "data": {
      "text/plain": [
       "filename\n",
       "105317_cam-np3_frame1118.jpg    A4.7\n",
       "105317_cam-np3_frame1129.jpg    A3.1\n",
       "105317_cam-np3_frame1136.jpg    A4.7\n",
       "105317_cam-np3_frame1342.jpg    A4.7\n",
       "105317_cam-np3_frame1343.jpg    A4.7\n",
       "105317_cam-np3_frame1344.jpg    A4.7\n",
       "105317_cam-np3_frame1345.jpg    A4.7\n",
       "105317_cam-np3_frame1346.jpg    A4.7\n",
       "105317_cam-np3_frame1347.jpg    A4.7\n",
       "105317_cam-np3_frame1348.jpg    A4.7\n",
       "105317_cam-np3_frame1351.jpg    A4.7\n",
       "105317_cam-np3_frame1352.jpg    A4.7\n",
       "105317_cam-np3_frame1358.jpg    A4.7\n",
       "105317_cam-np3_frame1360.jpg    A4.7\n",
       "105317_cam-np3_frame1361.jpg    A4.7\n",
       "105317_cam-np3_frame1362.jpg    A4.7\n",
       "105317_cam-np3_frame1364.jpg    A4.7\n",
       "105317_cam-np3_frame1365.jpg    A4.7\n",
       "105317_cam-np3_frame1369.jpg    A4.7\n",
       "105317_cam-np3_frame1376.jpg    A4.7\n",
       "105317_cam-np3_frame1383.jpg    A4.7\n",
       "105317_cam-np3_frame1384.jpg    A4.7\n",
       "105317_cam-np3_frame1386.jpg    A4.7\n",
       "105317_cam-np3_frame1387.jpg    A4.7\n",
       "105317_cam-np3_frame1389.jpg    A4.7\n",
       "105317_cam-np3_frame1390.jpg    A4.7\n",
       "105317_cam-np3_frame1392.jpg    A4.7\n",
       "105317_cam-np3_frame1393.jpg    A4.7\n",
       "105317_cam-np3_frame1394.jpg    A4.7\n",
       "105317_cam-np3_frame1397.jpg    A4.7\n",
       "                                ... \n",
       "105317_cam-np3_frame846.jpg     A4.7\n",
       "105317_cam-np3_frame847.jpg     A4.7\n",
       "105317_cam-np3_frame848.jpg     A4.7\n",
       "105317_cam-np3_frame859.jpg     A4.7\n",
       "105317_cam-np3_frame860.jpg     A4.7\n",
       "105317_cam-np3_frame861.jpg     A4.7\n",
       "105317_cam-np3_frame862.jpg     A4.7\n",
       "105317_cam-np3_frame863.jpg     A4.7\n",
       "105317_cam-np3_frame864.jpg     A4.7\n",
       "105317_cam-np3_frame865.jpg     A4.7\n",
       "105317_cam-np3_frame866.jpg     A4.7\n",
       "105317_cam-np3_frame867.jpg     A4.7\n",
       "105317_cam-np3_frame868.jpg     A4.7\n",
       "105317_cam-np3_frame869.jpg     A4.7\n",
       "105317_cam-np3_frame870.jpg     A4.7\n",
       "105317_cam-np3_frame871.jpg     A4.7\n",
       "105317_cam-np3_frame872.jpg     A4.7\n",
       "105317_cam-np3_frame873.jpg     A4.7\n",
       "105317_cam-np3_frame874.jpg     A4.7\n",
       "105317_cam-np3_frame875.jpg     A4.7\n",
       "105317_cam-np3_frame876.jpg     A4.7\n",
       "105317_cam-np3_frame877.jpg     A4.7\n",
       "105317_cam-np3_frame878.jpg     A4.7\n",
       "105317_cam-np3_frame879.jpg     A4.7\n",
       "105317_cam-np3_frame880.jpg     A4.7\n",
       "105317_cam-np3_frame882.jpg     A4.7\n",
       "105317_cam-np3_frame883.jpg     A4.7\n",
       "105317_cam-np3_frame884.jpg     A4.7\n",
       "105317_cam-np3_frame887.jpg     A4.7\n",
       "105317_cam-np3_frame897.jpg     A4.7\n",
       "Name: level3, Length: 403, dtype: object"
      ]
     },
     "execution_count": 134,
     "metadata": {},
     "output_type": "execute_result"
    }
   ],
   "source": [
    "df1_keras_preds = pd.DataFrame(df1_keras_preds).round(2).set_index(df1.index)\n",
    "df1_keras_preds.columns = test_Y_ohe.columns\n",
    "df1_keras_preds['level3'] = df1_keras_preds.idxmax(axis=1)\n",
    "\n",
    "df2_keras_preds = pd.DataFrame(df2_keras_preds).round(2).set_index(df2.index)\n",
    "df2_keras_preds.columns = test_Y_ohe.columns\n",
    "df2_keras_preds['level3'] = df2_keras_preds.idxmax(axis=1)\n",
    "\n",
    "df3_keras_preds = pd.DataFrame(df3_keras_preds).round(2).set_index(df3.index)\n",
    "df3_keras_preds.columns = test_Y_ohe.columns\n",
    "df3_keras_preds['level3'] = df3_keras_preds.idxmax(axis=1)\n",
    "\n",
    "df4_keras_preds = pd.DataFrame(df4_keras_preds).round(2).set_index(df4.index)\n",
    "df4_keras_preds.columns = test_Y_ohe.columns\n",
    "df4_keras_preds['level3'] = df4_keras_preds.idxmax(axis=1)"
   ]
  },
  {
   "cell_type": "markdown",
   "metadata": {},
   "source": [
    "## Plotting the Results"
   ]
  },
  {
   "cell_type": "code",
   "execution_count": 259,
   "metadata": {},
   "outputs": [
    {
     "data": {
      "image/png": "[encoded data removed]",
      "text/plain": [
       "<Figure size 1440x360 with 3 Axes>"
      ]
     },
     "metadata": {},
     "output_type": "display_data"
    },
    {
     "data": {
      "image/png": "[encoded data removed]",
      "text/plain": [
       "<Figure size 1440x360 with 3 Axes>"
      ]
     },
     "metadata": {},
     "output_type": "display_data"
    },
    {
     "data": {
      "image/png": "[encoded data removed]",
      "text/plain": [
       "<Figure size 1440x360 with 3 Axes>"
      ]
     },
     "metadata": {},
     "output_type": "display_data"
    },
    {
     "data": {
      "image/png": "[encoded data removed]",
      "text/plain": [
       "<Figure size 1440x360 with 3 Axes>"
      ]
     },
     "metadata": {},
     "output_type": "display_data"
    }
   ],
   "source": [
    "import matplotlib.pyplot as plt\n",
    "\n",
    "plt.figure(figsize=(20,5))\n",
    "plt.suptitle(folders[1], fontsize=16)\n",
    "plt.subplot(131)\n",
    "plt.bar(df1_rf_preds.level3.value_counts().index.tolist(), df1_rf_preds.level3.value_counts())\n",
    "plt.title('Random Forest')\n",
    "plt.subplot(132)\n",
    "plt.bar(df1_nn_preds.level3.value_counts().index.tolist(), df1_nn_preds.level3.value_counts(), color='C1')\n",
    "plt.title('Neural Net with sklearn')\n",
    "plt.subplot(133)\n",
    "plt.bar(df1_keras_preds.level3.value_counts().index.tolist(), df1_keras_preds.level3.value_counts(), color='C2')\n",
    "plt.title('Neural Net with Keras')\n",
    "\n",
    "plt.savefig('predictions_' + folders[1] + '.jpg')\n",
    "\n",
    "plt.figure(figsize=(20,5))\n",
    "plt.suptitle(folders[2], fontsize=16)\n",
    "plt.subplot(131)\n",
    "plt.bar(df2_rf_preds.level3.value_counts().index.tolist(), df2_rf_preds.level3.value_counts())\n",
    "plt.title('Random Forest')\n",
    "plt.subplot(132)\n",
    "plt.bar(df2_nn_preds.level3.value_counts().index.tolist(), df2_nn_preds.level3.value_counts(), color='C1')\n",
    "plt.title('Neural Net with sklearn')\n",
    "plt.subplot(133)\n",
    "plt.bar(df2_keras_preds.level3.value_counts().index.tolist(), df2_keras_preds.level3.value_counts(), color='C2')\n",
    "plt.title('Neural Net with Keras')\n",
    "\n",
    "plt.savefig('predictions_' + folders[2] + '.jpg')\n",
    "\n",
    "plt.figure(figsize=(20,5))\n",
    "plt.suptitle(folders[3], fontsize=16)\n",
    "plt.subplot(131)\n",
    "plt.bar(df3_rf_preds.level3.value_counts().index.tolist(), df3_rf_preds.level3.value_counts())\n",
    "plt.title('Random Forest')\n",
    "plt.subplot(132)\n",
    "plt.bar(df3_nn_preds.level3.value_counts().index.tolist(), df3_nn_preds.level3.value_counts(), color='C1')\n",
    "plt.title('Neural Net with sklearn')\n",
    "plt.subplot(133)\n",
    "plt.bar(df3_keras_preds.level3.value_counts().index.tolist(), df3_keras_preds.level3.value_counts(), color='C2')\n",
    "plt.title('Neural Net with Keras')\n",
    "\n",
    "plt.savefig('predictions_' + folders[3] + '.jpg')\n",
    "\n",
    "plt.figure(figsize=(20,5))\n",
    "plt.suptitle(folders[4], fontsize=16)\n",
    "plt.subplot(131)\n",
    "plt.bar(df4_rf_preds.level3.value_counts().index.tolist(), df4_rf_preds.level3.value_counts())\n",
    "plt.title('Random Forest')\n",
    "plt.subplot(132)\n",
    "plt.bar(df4_nn_preds.level3.value_counts().index.tolist(), df4_nn_preds.level3.value_counts(), color='C1')\n",
    "plt.title('Neural Net with sklearn')\n",
    "plt.subplot(133)\n",
    "plt.bar(df4_keras_preds.level3.value_counts().index.tolist(), df4_keras_preds.level3.value_counts(), color='C2')\n",
    "plt.title('Neural Net with Keras')\n",
    "\n",
    "plt.savefig('predictions_' + folders[4] + '.jpg')"
   ]
  },
  {
   "cell_type": "markdown",
   "metadata": {},
   "source": [
    "Basing on the results we are going to drop the Neural Net built with Keras.\n",
    "Random Forest looks promising although the Neural Net built with sklearn seems to differentiate better more classifications."
   ]
  },
  {
   "cell_type": "code",
   "execution_count": null,
   "metadata": {},
   "outputs": [],
   "source": []
  }
 ],
 "metadata": {
  "kernelspec": {
   "display_name": "Python 3",
   "language": "python",
   "name": "python3"
  },
  "language_info": {
   "codemirror_mode": {
    "name": "ipython",
    "version": 3
   },
   "file_extension": ".py",
   "mimetype": "text/x-python",
   "name": "python",
   "nbconvert_exporter": "python",
   "pygments_lexer": "ipython3",
   "version": "3.6.4"
  }
 },
 "nbformat": 4,
 "nbformat_minor": 2
}
